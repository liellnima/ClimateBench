{
 "cells": [
  {
   "cell_type": "markdown",
   "metadata": {},
   "source": [
    "# Prepare input data for ClimateBench"
   ]
  },
  {
   "cell_type": "markdown",
   "metadata": {},
   "source": [
    "#### Changes\n",
    "    - fixed environment (xesmf)\n",
    "    - added paths\n",
    "    - changed splitting\n",
    "    \n",
    "#### Problems\n",
    "    - conservative regridding\n",
    "    - historical preparation"
   ]
  },
  {
   "cell_type": "code",
   "execution_count": 1,
   "metadata": {},
   "outputs": [],
   "source": [
    "import tarfile\n",
    "import os.path\n",
    "import numpy as np\n",
    "import xesmf as xe\n",
    "import pandas as pd\n",
    "import xarray as xr\n",
    "import matplotlib.pyplot as plt\n",
    "\n",
    "from glob import glob"
   ]
  },
  {
   "cell_type": "code",
   "execution_count": 3,
   "metadata": {},
   "outputs": [],
   "source": [
    "# Data paths on JASMIN\n",
    "input_path = '/home/charlie/Documents/MILA/ClimateBench/climate_bench_inputs/' # data from Duncan\n",
    "path_f = input_path+'/{species}*-{scenario}-1-1_gn*.nc'\n",
    "#path_f=input_path+'*{scenario}_*.nc'\n",
    "output_path = '/home/charlie/Documents/MILA/ClimateBench/target_data/prepared_data/'\n",
    "path_f_csv = input_path+'/{species}*-{scenario}-1-1_gn*.csv'"
   ]
  },
  {
   "cell_type": "code",
   "execution_count": 4,
   "metadata": {},
   "outputs": [],
   "source": [
    "experiments = [\n",
    "               'ssp370', 'ssp126', 'ssp245', 'ssp370', 'ssp370-lowNTCF', 'ssp585' #\tScenarioMIP\n",
    "]"
   ]
  },
  {
   "cell_type": "code",
   "execution_count": 5,
   "metadata": {},
   "outputs": [],
   "source": [
    "# All units are in kg m-2 s-1\n",
    "# Convert to GtC -> multiply by area of earth, period I've summed, and divide by weight of carbon\n",
    "AREA_OF_EARTH = 5.101e+14 #m2\n",
    "SECONDS_IN_YEAR = 60*60*24*365 #s\n",
    "MASS_OF_CARBON = 1.9944235e-26  #kg\n",
    "FRACTION_OF_CARBON_MASS = (6) / (6 + 8 + 8)\n",
    "\n",
    "convert = lambda x: x * AREA_OF_EARTH * SECONDS_IN_YEAR * 1e-12 # kg -> Gt\n",
    "\n",
    "def global_mean(ds):\n",
    "    if 'plev' in ds.coords:\n",
    "        res = ds.sum('plev')\n",
    "    else:\n",
    "        res = ds\n",
    "        \n",
    "    weights = np.cos(np.deg2rad(ds.lat))\n",
    "    weights.name = \"weights\"\n",
    "    gl_mean = res.weighted(weights).mean((\"lon\", \"lat\"))\n",
    "    \n",
    "    return gl_mean\n",
    "\n",
    "def global_sum(ds):\n",
    "    if 'plev' in ds.coords:\n",
    "        res = ds.sum('plev')\n",
    "    else:\n",
    "        res = ds\n",
    "        \n",
    "    weights = np.cos(np.deg2rad(ds.lat))\n",
    "    weights.name = \"weights\"\n",
    "    gl_total = res.weighted(weights).sum((\"lon\", \"lat\")) * AREA_OF_EARTH\n",
    "    \n",
    "    return gl_total"
   ]
  },
  {
   "cell_type": "markdown",
   "metadata": {},
   "source": [
    "# Setup regridding"
   ]
  },
  {
   "cell_type": "code",
   "execution_count": 6,
   "metadata": {},
   "outputs": [
    {
     "name": "stdout",
     "output_type": "stream",
     "text": [
      "<xarray.Dataset>\n",
      "Dimensions:                    (lat: 96, lon: 144, year: 171)\n",
      "Coordinates:\n",
      "  * lat                        (lat) float64 -90.0 -88.11 -86.21 ... 88.11 90.0\n",
      "  * lon                        (lon) float64 0.0 2.5 5.0 ... 352.5 355.0 357.5\n",
      "  * year                       (year) int64 1850 1851 1852 ... 2018 2019 2020\n",
      "    quantile                   float64 ...\n",
      "Data variables:\n",
      "    diurnal_temperature_range  (year, lat, lon) float32 ...\n",
      "    tas                        (year, lat, lon) float32 ...\n",
      "    pr                         (year, lat, lon) float32 ...\n",
      "    pr90                       (year, lat, lon) float64 ...\n",
      "<xarray.Dataset>\n",
      "Dimensions:        (lon: 720, lat: 360, time: 120, bound: 2)\n",
      "Coordinates:\n",
      "  * lon            (lon) float64 -179.8 -179.2 -178.8 ... 178.8 179.2 179.8\n",
      "  * lat            (lat) float64 -89.75 -89.25 -88.75 ... 88.75 89.25 89.75\n",
      "  * time           (time) object 2015-01-16 00:00:00 ... 2100-12-16 00:00:00\n",
      "Dimensions without coordinates: bound\n",
      "Data variables:\n",
      "    CO2_em_anthro  (time, lat, lon) float32 dask.array<chunksize=(120, 360, 720), meta=np.ndarray>\n",
      "    lon_bnds       (lon, bound) float64 dask.array<chunksize=(720, 2), meta=np.ndarray>\n",
      "    lat_bnds       (lat, bound) float64 dask.array<chunksize=(360, 2), meta=np.ndarray>\n",
      "    time_bnds      (time, bound) object dask.array<chunksize=(120, 2), meta=np.ndarray>\n",
      "    sector_bnds    (bound) float64 dask.array<chunksize=(2,), meta=np.ndarray>\n",
      "Overwrite existing file: bilinear_360x720_96x144_peri.nc \n",
      " You can set reuse_weights=True to save computing time.\n"
     ]
    }
   ],
   "source": [
    "# Example NorESM grid\n",
    "noresm_grid = xr.open_dataset(input_path+'/NorESM2-LM_hist-GHG_r1i1p1f1.nc')\n",
    "#print(noresm_grid['lon_bnds'])\n",
    "#print(noresm_grid.keys())\n",
    "print(noresm_grid)\n",
    "# Example input4MIPS grid\n",
    "#rename_dict={'lon_bnds': 'lon_b', 'lat_bnds': 'lat_b'}\n",
    "#noresm_grid.rename_vars(lon_bnds='lon_b', lat_bnds='lat_b', inplace=True) \n",
    "example_input4MIPs_ds = xr.open_mfdataset(path_f.format(species=\"CO2\", scenario='ssp370'), combine='by_coords').sum('sector')\n",
    "#example_input4MIPs_ds = xr.open_mfdataset(input_path+'NorESM2-LM_ssp370_r2i1p1f1.nc', combine='by_coords').sum('sector')\n",
    "print(example_input4MIPs_ds)\n",
    "# conservative does not work as we have no corner informaion, switching to 'bilinear'\n",
    "# //TODO: fix?\n",
    "#regridder = xe.Regridder(example_input4MIPs_ds, noresm_grid.rename({'lat': 'latitude', 'lon': 'longitude'}), 'bilinear', periodic=True)\n",
    "regridder = xe.Regridder(example_input4MIPs_ds, noresm_grid, 'bilinear', periodic=True)"
   ]
  },
  {
   "cell_type": "code",
   "execution_count": 7,
   "metadata": {},
   "outputs": [
    {
     "name": "stdout",
     "output_type": "stream",
     "text": [
      "xESMF Regridder \n",
      "Regridding algorithm:       bilinear \n",
      "Weight filename:            bilinear_360x720_96x144_peri.nc \n",
      "Reuse pre-computed weights? False \n",
      "Input grid shape:           (360, 720) \n",
      "Output grid shape:          (96, 144) \n",
      "Output grid dimension name: ('lat', 'lon') \n",
      "Periodic in longitude?      True\n",
      "<xarray.DataArray 'CO2_em_anthro' (time: 120, lat: 96, lon: 144)>\n",
      "dask.array<transpose, shape=(120, 96, 144), dtype=float64, chunksize=(120, 96, 144), chunktype=numpy.ndarray>\n",
      "Coordinates:\n",
      "  * time     (time) object 2015-01-16 00:00:00 ... 2100-12-16 00:00:00\n",
      "  * lon      (lon) float64 0.0 2.5 5.0 7.5 10.0 ... 350.0 352.5 355.0 357.5\n",
      "  * lat      (lat) float64 -90.0 -88.11 -86.21 -84.32 ... 84.32 86.21 88.11 90.0\n",
      "Attributes:\n",
      "    regrid_method:  bilinear\n"
     ]
    },
    {
     "name": "stderr",
     "output_type": "stream",
     "text": [
      "/home/charlie/miniconda3/envs/climatebench_data/lib/python3.7/site-packages/xesmf/frontend.py:421: FutureWarning: ``output_sizes`` should be given in the ``dask_gufunc_kwargs`` parameter. It will be removed as direct parameter in a future version.\n",
      "  keep_attrs=keep_attrs\n"
     ]
    }
   ],
   "source": [
    "print(regridder)\n",
    "coarse_emissions_t = regridder(example_input4MIPs_ds['CO2_em_anthro'])\n",
    "print(coarse_emissions_t)\n"
   ]
  },
  {
   "cell_type": "code",
   "execution_count": 8,
   "metadata": {},
   "outputs": [
    {
     "name": "stderr",
     "output_type": "stream",
     "text": [
      "/home/charlie/miniconda3/envs/climatebench_data/lib/python3.7/site-packages/xesmf/frontend.py:421: FutureWarning: ``output_sizes`` should be given in the ``dask_gufunc_kwargs`` parameter. It will be removed as direct parameter in a future version.\n",
      "  keep_attrs=keep_attrs\n"
     ]
    },
    {
     "name": "stdout",
     "output_type": "stream",
     "text": [
      "<xarray.DataArray 'CO2_em_anthro' ()>\n",
      "array(2.64756819e-05)\n"
     ]
    },
    {
     "data": {
      "text/plain": [
       "<matplotlib.collections.QuadMesh at 0x7f53c4d47590>"
      ]
     },
     "execution_count": 8,
     "metadata": {},
     "output_type": "execute_result"
    },
    {
     "data": {
      "image/png": "[encoded data removed]",
      "text/plain": [
       "<Figure size 432x288 with 2 Axes>"
      ]
     },
     "metadata": {
      "needs_background": "light"
     },
     "output_type": "display_data"
    }
   ],
   "source": [
    "# Get an example emissions dataset to check it's working\n",
    "coarse_emissions = regridder(example_input4MIPs_ds['CO2_em_anthro'])\n",
    "\n",
    "print(coarse_emissions.sel(time='2015-01').sum().compute())\n",
    "coarse_emissions.sel(time='2015-01').squeeze().plot.pcolormesh(vmin=1e-7, vmax=2e-7)"
   ]
  },
  {
   "cell_type": "code",
   "execution_count": 9,
   "metadata": {},
   "outputs": [
    {
     "name": "stdout",
     "output_type": "stream",
     "text": [
      "<xarray.DataArray 'CO2_em_anthro' ()>\n",
      "array(0.00050094, dtype=float32)\n"
     ]
    },
    {
     "data": {
      "text/plain": [
       "<matplotlib.collections.QuadMesh at 0x7f53c4b8a890>"
      ]
     },
     "execution_count": 9,
     "metadata": {},
     "output_type": "execute_result"
    },
    {
     "data": {
      "image/png": "[encoded data removed]",
      "text/plain": [
       "<Figure size 432x288 with 2 Axes>"
      ]
     },
     "metadata": {
      "needs_background": "light"
     },
     "output_type": "display_data"
    }
   ],
   "source": [
    "print(example_input4MIPs_ds.sel(time='2015-01')['CO2_em_anthro'].sum().compute())\n",
    "example_input4MIPs_ds.sel(time='2015-01')['CO2_em_anthro'].squeeze().plot.pcolormesh(vmin=1e-7, vmax=2e-7)"
   ]
  },
  {
   "cell_type": "markdown",
   "metadata": {},
   "source": [
    "# Get input4MIPS"
   ]
  },
  {
   "cell_type": "code",
   "execution_count": 10,
   "metadata": {},
   "outputs": [
    {
     "data": {
      "image/png": "[encoded data removed]",
      "text/plain": [
       "<Figure size 432x288 with 1 Axes>"
      ]
     },
     "metadata": {
      "needs_background": "light"
     },
     "output_type": "display_data"
    }
   ],
   "source": [
    "# Deal with CMIP experiments\n",
    "\n",
    "# get the baseline CO2 mass from piControl\n",
    "\n",
    "# CO2 mass in kg\n",
    "baseline_co2_mass = xr.open_mfdataset(input_path+'/co2mass_Amon_NorESM2-LM_piControl*.nc')['co2mass'].mean()\n",
    "\n",
    "# 1pctCO2\n",
    "\n",
    "# (additional) CO2 mass in kg\n",
    "co2_ts = (xr.open_mfdataset(input_path+'/co2mass_Amon_NorESM2-LM_1pctCO2*.nc')['co2mass'].groupby('time.year').mean() - baseline_co2_mass).rename('CO2')  * 1e-12 # kg -> Gt\n",
    "so2_ts = xr.zeros_like(co2_ts).rename('SO2')\n",
    "ch4_ts = xr.zeros_like(co2_ts).rename('CH4')\n",
    "bc_ts = xr.zeros_like(co2_ts).rename('BC')\n",
    "\n",
    "co2_ts.plot()\n",
    "\n",
    "ds = xr.merge([co2_ts, so2_ts, ch4_ts, bc_ts])\n",
    "ds.rename({'year': 'time'}).to_netcdf(output_path+'inputs_1pctCO2.nc')\n",
    "\n",
    "# abrupt-4xCO2\n",
    "\n",
    "# (additional) CO2 mass in kg\n",
    "co2_ts = (xr.open_mfdataset(input_path+'/co2mass_Amon_NorESM2-LM_abrupt-4xCO2*.nc')['co2mass'].groupby('time.year').mean() - baseline_co2_mass).rename('CO2')  * 1e-12 # kg -> Gt\n",
    "so2_ts = xr.zeros_like(co2_ts).rename('SO2')\n",
    "ch4_ts = xr.zeros_like(co2_ts).rename('CH4')\n",
    "bc_ts = xr.zeros_like(co2_ts).rename('BC')\n",
    "\n",
    "co2_ts.plot()\n",
    "ds = xr.merge([co2_ts, so2_ts, ch4_ts, bc_ts])\n",
    "ds.rename({'year': 'time'}).to_netcdf(output_path+'inputs_abrupt-4xCO2.nc')\n"
   ]
  },
  {
   "cell_type": "code",
   "execution_count": 11,
   "metadata": {},
   "outputs": [
    {
     "name": "stdout",
     "output_type": "stream",
     "text": [
      "['/home/charlie/Documents/MILA/ClimateBench/climate_bench_inputs/CO2-em-AIR-anthro_input4MIPs_emissions_CMIP_CEDS-2017-05-18_gn_200001-201412.csv', '/home/charlie/Documents/MILA/ClimateBench/climate_bench_inputs/CO2-em-AIR-anthro_input4MIPs_emissions_CMIP_CEDS-2017-05-18_gn_185001-185012.csv', '/home/charlie/Documents/MILA/ClimateBench/climate_bench_inputs/CO2-em-AIR-anthro_input4MIPs_emissions_CMIP_CEDS-2017-05-18_gn_175001-179912.csv', '/home/charlie/Documents/MILA/ClimateBench/climate_bench_inputs/CO2-em-AIR-anthro_input4MIPs_emissions_CMIP_CEDS-2017-05-18_gn_185101-189912.csv', '/home/charlie/Documents/MILA/ClimateBench/climate_bench_inputs/CO2-em-AIR-anthro_input4MIPs_emissions_CMIP_CEDS-2017-05-18_gn_195001-199912.csv', '/home/charlie/Documents/MILA/ClimateBench/climate_bench_inputs/CO2-em-AIR-anthro_input4MIPs_emissions_CMIP_CEDS-2017-05-18_gn_190001-194912.csv', '/home/charlie/Documents/MILA/ClimateBench/climate_bench_inputs/CO2-em-AIR-anthro_input4MIPs_emissions_CMIP_CEDS-2017-05-18_gn_180001-184912.csv']\n"
     ]
    },
    {
     "data": {
      "text/html": [
       "<div>\n",
       "<style scoped>\n",
       "    .dataframe tbody tr th:only-of-type {\n",
       "        vertical-align: middle;\n",
       "    }\n",
       "\n",
       "    .dataframe tbody tr th {\n",
       "        vertical-align: top;\n",
       "    }\n",
       "\n",
       "    .dataframe thead th {\n",
       "        text-align: right;\n",
       "    }\n",
       "</style>\n",
       "<table border=\"1\" class=\"dataframe\">\n",
       "  <thead>\n",
       "    <tr style=\"text-align: right;\">\n",
       "      <th></th>\n",
       "      <th>global_total</th>\n",
       "    </tr>\n",
       "    <tr>\n",
       "      <th>year</th>\n",
       "      <th></th>\n",
       "    </tr>\n",
       "  </thead>\n",
       "  <tbody>\n",
       "    <tr>\n",
       "      <th>1850</th>\n",
       "      <td>0.188297</td>\n",
       "    </tr>\n",
       "    <tr>\n",
       "      <th>1851</th>\n",
       "      <td>0.188947</td>\n",
       "    </tr>\n",
       "    <tr>\n",
       "      <th>1852</th>\n",
       "      <td>0.196570</td>\n",
       "    </tr>\n",
       "    <tr>\n",
       "      <th>1853</th>\n",
       "      <td>0.205034</td>\n",
       "    </tr>\n",
       "    <tr>\n",
       "      <th>1854</th>\n",
       "      <td>0.241471</td>\n",
       "    </tr>\n",
       "    <tr>\n",
       "      <th>...</th>\n",
       "      <td>...</td>\n",
       "    </tr>\n",
       "    <tr>\n",
       "      <th>2010</th>\n",
       "      <td>32.892259</td>\n",
       "    </tr>\n",
       "    <tr>\n",
       "      <th>2011</th>\n",
       "      <td>33.919973</td>\n",
       "    </tr>\n",
       "    <tr>\n",
       "      <th>2012</th>\n",
       "      <td>34.398774</td>\n",
       "    </tr>\n",
       "    <tr>\n",
       "      <th>2013</th>\n",
       "      <td>35.398253</td>\n",
       "    </tr>\n",
       "    <tr>\n",
       "      <th>2014</th>\n",
       "      <td>35.617503</td>\n",
       "    </tr>\n",
       "  </tbody>\n",
       "</table>\n",
       "<p>165 rows × 1 columns</p>\n",
       "</div>"
      ],
      "text/plain": [
       "      global_total\n",
       "year              \n",
       "1850      0.188297\n",
       "1851      0.188947\n",
       "1852      0.196570\n",
       "1853      0.205034\n",
       "1854      0.241471\n",
       "...            ...\n",
       "2010     32.892259\n",
       "2011     33.919973\n",
       "2012     34.398774\n",
       "2013     35.398253\n",
       "2014     35.617503\n",
       "\n",
       "[165 rows x 1 columns]"
      ]
     },
     "execution_count": 11,
     "metadata": {},
     "output_type": "execute_result"
    }
   ],
   "source": [
    "# Use the global checksums\n",
    "all_files = glob(input_path+'/CO2-em-AIR-anthro_input4MIPs_emissions_CMIP_CEDS-2017-05-18_gn_*.csv')\n",
    "#all_files=glob(input_path+'/CO2-em-AIR-anthro_input4MIPs_emissions_ScenarioMIP*.nc')\n",
    "print(all_files)\n",
    "co2_air=pd.concat((pd.read_csv(f, index_col=['year', 'month', 'sector']) for f in all_files)) \n",
    "co2_air=co2_air.groupby(level=['year']).sum() / 1e6 # kt -> Gt\n",
    "all_files = glob(input_path+'/CO2-em-anthro_input4MIPs_emissions_CMIP_CEDS-2017-05-18_gn_*.csv')\n",
    "co2=pd.concat((pd.read_csv(f, index_col=['year', 'month', 'sector']) for f in all_files)) \n",
    "co2=co2.groupby(level=['year']).sum() / 1e6 # kt -> Gt\n",
    "# ckeck starting year of csv file, might need to skip the first 100 years\n",
    "co2_tot = (co2_air + co2)[100:]\n",
    "co2_tot"
   ]
  },
  {
   "cell_type": "code",
   "execution_count": 12,
   "metadata": {},
   "outputs": [
    {
     "data": {
      "text/html": [
       "<div>\n",
       "<style scoped>\n",
       "    .dataframe tbody tr th:only-of-type {\n",
       "        vertical-align: middle;\n",
       "    }\n",
       "\n",
       "    .dataframe tbody tr th {\n",
       "        vertical-align: top;\n",
       "    }\n",
       "\n",
       "    .dataframe thead th {\n",
       "        text-align: right;\n",
       "    }\n",
       "</style>\n",
       "<table border=\"1\" class=\"dataframe\">\n",
       "  <thead>\n",
       "    <tr style=\"text-align: right;\">\n",
       "      <th></th>\n",
       "      <th>global_total</th>\n",
       "    </tr>\n",
       "    <tr>\n",
       "      <th>year</th>\n",
       "      <th></th>\n",
       "    </tr>\n",
       "  </thead>\n",
       "  <tbody>\n",
       "    <tr>\n",
       "      <th>1850</th>\n",
       "      <td>0.031306</td>\n",
       "    </tr>\n",
       "    <tr>\n",
       "      <th>1851</th>\n",
       "      <td>0.031742</td>\n",
       "    </tr>\n",
       "    <tr>\n",
       "      <th>1852</th>\n",
       "      <td>0.032178</td>\n",
       "    </tr>\n",
       "    <tr>\n",
       "      <th>1853</th>\n",
       "      <td>0.032614</td>\n",
       "    </tr>\n",
       "    <tr>\n",
       "      <th>1854</th>\n",
       "      <td>0.033049</td>\n",
       "    </tr>\n",
       "    <tr>\n",
       "      <th>...</th>\n",
       "      <td>...</td>\n",
       "    </tr>\n",
       "    <tr>\n",
       "      <th>2010</th>\n",
       "      <td>0.357019</td>\n",
       "    </tr>\n",
       "    <tr>\n",
       "      <th>2011</th>\n",
       "      <td>0.360551</td>\n",
       "    </tr>\n",
       "    <tr>\n",
       "      <th>2012</th>\n",
       "      <td>0.366511</td>\n",
       "    </tr>\n",
       "    <tr>\n",
       "      <th>2013</th>\n",
       "      <td>0.369772</td>\n",
       "    </tr>\n",
       "    <tr>\n",
       "      <th>2014</th>\n",
       "      <td>0.371205</td>\n",
       "    </tr>\n",
       "  </tbody>\n",
       "</table>\n",
       "<p>165 rows × 1 columns</p>\n",
       "</div>"
      ],
      "text/plain": [
       "      global_total\n",
       "year              \n",
       "1850      0.031306\n",
       "1851      0.031742\n",
       "1852      0.032178\n",
       "1853      0.032614\n",
       "1854      0.033049\n",
       "...            ...\n",
       "2010      0.357019\n",
       "2011      0.360551\n",
       "2012      0.366511\n",
       "2013      0.369772\n",
       "2014      0.371205\n",
       "\n",
       "[165 rows x 1 columns]"
      ]
     },
     "execution_count": 12,
     "metadata": {},
     "output_type": "execute_result"
    }
   ],
   "source": [
    "# Use the global checksums\n",
    "all_files = glob(input_path+'/CH4-em-anthro_input4MIPs_emissions_CMIP_CEDS-*.csv')\n",
    "ch4=pd.concat((pd.read_csv(f, index_col=['year', 'month', 'sector']).rename(columns={'value': 'global_total'}) for f in all_files)) \n",
    "# Fill in the data up to 1970\n",
    "ch4 = ch4.groupby(level=['year']).sum().reindex(range(1850, 2015)).interpolate('linear') / 1e6 # kt -> Gt\n",
    "# Note the AIR component for methane is zero over the historical period\n",
    "ch4"
   ]
  },
  {
   "cell_type": "code",
   "execution_count": 13,
   "metadata": {},
   "outputs": [],
   "source": [
    "hist_co2_ts = xr.DataArray(co2_tot.cumsum()['global_total'], name='CO2')"
   ]
  },
  {
   "cell_type": "code",
   "execution_count": 14,
   "metadata": {},
   "outputs": [
    {
     "name": "stdout",
     "output_type": "stream",
     "text": [
      "<xarray.DataArray 'CO2' (year: 165)>\n",
      "array([1.88297189e-01, 3.77244499e-01, 5.73814120e-01, 7.78848498e-01,\n",
      "       1.02031959e+00, 1.26422731e+00, 1.52512019e+00, 1.78857170e+00,\n",
      "       2.05617947e+00, 2.34146436e+00, 2.65589507e+00, 2.98729869e+00,\n",
      "       3.32393522e+00, 3.68117679e+00, 4.06493643e+00, 4.47145662e+00,\n",
      "       4.89190972e+00, 5.34110502e+00, 5.80139408e+00, 6.28983370e+00,\n",
      "       6.79066964e+00, 7.32292739e+00, 7.91050857e+00, 8.53381433e+00,\n",
      "       9.12383651e+00, 9.75873506e+00, 1.04034513e+01, 1.10624116e+01,\n",
      "       1.17248591e+01, 1.24327402e+01, 1.32364998e+01, 1.40618181e+01,\n",
      "       1.49301050e+01, 1.58494950e+01, 1.67760499e+01, 1.77084426e+01,\n",
      "       1.86550648e+01, 1.96480320e+01, 2.07437896e+01, 2.18409098e+01,\n",
      "       2.30329028e+01, 2.42804778e+01, 2.55371854e+01, 2.67752933e+01,\n",
      "       2.80619702e+01, 2.94240890e+01, 3.08300447e+01, 3.23030831e+01,\n",
      "       3.38542587e+01, 3.55520596e+01, 3.73408806e+01, 3.91895421e+01,\n",
      "       4.10926558e+01, 4.31684005e+01, 4.52760175e+01, 4.75197479e+01,\n",
      "       4.98806683e+01, 5.25444179e+01, 5.51213818e+01, 5.77940636e+01,\n",
      "       6.06000341e+01, 6.34620283e+01, 6.64667590e+01, 6.97264179e+01,\n",
      "       7.27000999e+01, 7.56426412e+01, 7.88136269e+01, 8.20992822e+01,\n",
      "       8.53511352e+01, 8.82126019e+01, 9.15218689e+01, 9.44308956e+01,\n",
      "       9.75233734e+01, 1.01039696e+02, 1.04595602e+02, 1.08200396e+02,\n",
      "       1.11759371e+02, 1.15687685e+02, 1.19631366e+02, 1.23871055e+02,\n",
      "...\n",
      "       1.58462680e+02, 1.62979688e+02, 1.67862718e+02, 1.72836779e+02,\n",
      "       1.77817141e+02, 1.82958374e+02, 1.88044541e+02, 1.92372190e+02,\n",
      "       1.97115016e+02, 2.02428356e+02, 2.08078302e+02, 2.13630369e+02,\n",
      "       2.19844423e+02, 2.26504346e+02, 2.33290779e+02, 2.40275145e+02,\n",
      "       2.47440675e+02, 2.55278517e+02, 2.63674307e+02, 2.72413585e+02,\n",
      "       2.81454543e+02, 2.90995963e+02, 3.00994619e+02, 3.11079967e+02,\n",
      "       3.21591484e+02, 3.32717890e+02, 3.44421036e+02, 3.56668306e+02,\n",
      "       3.69500673e+02, 3.82788389e+02, 3.96840681e+02, 4.11724654e+02,\n",
      "       4.27568522e+02, 4.44096631e+02, 4.61343870e+02, 4.79577244e+02,\n",
      "       4.97709925e+02, 5.15771509e+02, 5.34807986e+02, 5.54466551e+02,\n",
      "       5.74921728e+02, 5.95922694e+02, 6.16631287e+02, 6.36930835e+02,\n",
      "       6.57002834e+02, 6.77096121e+02, 6.97687614e+02, 7.18498619e+02,\n",
      "       7.39695400e+02, 7.61470149e+02, 7.83946105e+02, 8.06705623e+02,\n",
      "       8.29375744e+02, 8.52057638e+02, 8.74577480e+02, 8.97274106e+02,\n",
      "       9.20141872e+02, 9.43512830e+02, 9.67374869e+02, 9.91468567e+02,\n",
      "       1.01562050e+03, 1.04003216e+03, 1.06529349e+03, 1.09078897e+03,\n",
      "       1.11680065e+03, 1.14400936e+03, 1.17264006e+03, 1.20230004e+03,\n",
      "       1.23292992e+03, 1.26474361e+03, 1.29674787e+03, 1.32820901e+03,\n",
      "       1.36110127e+03, 1.39502124e+03, 1.42942002e+03, 1.46481827e+03,\n",
      "       1.50043577e+03])\n",
      "Coordinates:\n",
      "  * year     (year) int64 1850 1851 1852 1853 1854 ... 2010 2011 2012 2013 2014\n"
     ]
    }
   ],
   "source": [
    "print(hist_co2_ts\n",
    "     )"
   ]
  },
  {
   "cell_type": "code",
   "execution_count": 15,
   "metadata": {},
   "outputs": [
    {
     "name": "stdout",
     "output_type": "stream",
     "text": [
      "<xarray.DataArray 'SO2' (year: 165, lat: 96, lon: 144)>\n",
      "dask.array<transpose, shape=(165, 96, 144), dtype=float64, chunksize=(1, 96, 144), chunktype=numpy.ndarray>\n",
      "Coordinates:\n",
      "  * year     (year) int64 1850 1851 1852 1853 1854 ... 2010 2011 2012 2013 2014\n",
      "  * lon      (lon) float64 0.0 2.5 5.0 7.5 10.0 ... 350.0 352.5 355.0 357.5\n",
      "  * lat      (lat) float64 -90.0 -88.11 -86.21 -84.32 ... 84.32 86.21 88.11 90.0\n",
      "Attributes:\n",
      "    regrid_method:  bilinear\n"
     ]
    },
    {
     "name": "stderr",
     "output_type": "stream",
     "text": [
      "/home/charlie/miniconda3/envs/climatebench_data/lib/python3.7/site-packages/xesmf/frontend.py:421: FutureWarning: ``output_sizes`` should be given in the ``dask_gufunc_kwargs`` parameter. It will be removed as direct parameter in a future version.\n",
      "  keep_attrs=keep_attrs\n"
     ]
    }
   ],
   "source": [
    "hist_so2_ts = regridder(xr.open_mfdataset(input_path+'/SO2-em-anthro_input4MIPs_emissions_CMIP_CEDS-*.nc')['SO2_em_anthro'].sum('sector').groupby('time.year').mean().sel(year=slice(1850, None)).rename('SO2'))\n",
    "print(hist_so2_ts)"
   ]
  },
  {
   "cell_type": "code",
   "execution_count": 16,
   "metadata": {},
   "outputs": [
    {
     "name": "stdout",
     "output_type": "stream",
     "text": [
      "<xarray.DataArray 'CH4' (year: 165)>\n",
      "array([0.03130595, 0.03174183, 0.03217772, 0.0326136 , 0.03304948,\n",
      "       0.03348537, 0.03392125, 0.03435714, 0.03479302, 0.03522891,\n",
      "       0.03566479, 0.03660865, 0.0375525 , 0.03849636, 0.03944021,\n",
      "       0.04038407, 0.04132793, 0.04227178, 0.04321564, 0.04415949,\n",
      "       0.04510335, 0.04608819, 0.04707303, 0.04805787, 0.04904271,\n",
      "       0.05002755, 0.05101239, 0.05199723, 0.05298207, 0.05396691,\n",
      "       0.05495175, 0.05598158, 0.05701142, 0.05804125, 0.05907108,\n",
      "       0.06010092, 0.06113075, 0.06216059, 0.06319042, 0.06422025,\n",
      "       0.06525009, 0.06632685, 0.06740362, 0.06848039, 0.06955716,\n",
      "       0.07063393, 0.0717107 , 0.07278746, 0.07386423, 0.074941  ,\n",
      "       0.07601777, 0.07701439, 0.07801102, 0.07900765, 0.08000427,\n",
      "       0.0810009 , 0.08199752, 0.08299415, 0.08399077, 0.0849874 ,\n",
      "       0.08598402, 0.08712906, 0.08827409, 0.08941913, 0.09056416,\n",
      "       0.0917092 , 0.09285423, 0.09399927, 0.0951443 , 0.09628934,\n",
      "       0.09743437, 0.09845447, 0.09947457, 0.10049467, 0.10151477,\n",
      "       0.10253487, 0.10355497, 0.10457506, 0.10559516, 0.10661526,\n",
      "       0.10763536, 0.10876213, 0.10988889, 0.11101565, 0.11214242,\n",
      "       0.11326918, 0.11439594, 0.11552271, 0.11664947, 0.11777623,\n",
      "       0.118903  , 0.12101593, 0.12312886, 0.1252418 , 0.12735473,\n",
      "       0.12946766, 0.13158059, 0.13369353, 0.13580646, 0.13791939,\n",
      "       0.14003232, 0.14466583, 0.14929934, 0.15393285, 0.15856636,\n",
      "       0.16319987, 0.16783338, 0.17246688, 0.17710039, 0.1817339 ,\n",
      "       0.18636741, 0.19105681, 0.19574621, 0.20043561, 0.205125  ,\n",
      "       0.2098144 , 0.2145038 , 0.2191932 , 0.2238826 , 0.228572  ,\n",
      "       0.2332614 , 0.23771185, 0.24174979, 0.24866523, 0.25033741,\n",
      "       0.25210798, 0.25799159, 0.26198731, 0.26452267, 0.26965652,\n",
      "       0.27136399, 0.2682687 , 0.26957127, 0.27080274, 0.27336653,\n",
      "       0.27382009, 0.27875919, 0.28077884, 0.28632249, 0.29078531,\n",
      "       0.29240092, 0.29129198, 0.28812401, 0.28665641, 0.28739384,\n",
      "       0.29196929, 0.29494947, 0.29551356, 0.29547453, 0.29562969,\n",
      "       0.29890881, 0.30157582, 0.30416729, 0.31276764, 0.32339024,\n",
      "       0.33104533, 0.33683794, 0.34121955, 0.34889777, 0.34999743,\n",
      "       0.35701871, 0.36055109, 0.36651072, 0.36977223, 0.37120514])\n",
      "Coordinates:\n",
      "  * year     (year) int64 1850 1851 1852 1853 1854 ... 2010 2011 2012 2013 2014\n"
     ]
    }
   ],
   "source": [
    "hist_ch4_ts = xr.DataArray(ch4['global_total'], name='CH4')\n",
    "print(hist_ch4_ts)"
   ]
  },
  {
   "cell_type": "code",
   "execution_count": 17,
   "metadata": {},
   "outputs": [
    {
     "name": "stderr",
     "output_type": "stream",
     "text": [
      "/home/charlie/miniconda3/envs/climatebench_data/lib/python3.7/site-packages/xesmf/frontend.py:421: FutureWarning: ``output_sizes`` should be given in the ``dask_gufunc_kwargs`` parameter. It will be removed as direct parameter in a future version.\n",
      "  keep_attrs=keep_attrs\n"
     ]
    },
    {
     "name": "stdout",
     "output_type": "stream",
     "text": [
      "so2\n",
      "<xarray.DataArray 'BC' (year: 165, lat: 96, lon: 144)>\n",
      "dask.array<transpose, shape=(165, 96, 144), dtype=float64, chunksize=(1, 96, 144), chunktype=numpy.ndarray>\n",
      "Coordinates:\n",
      "  * year     (year) int64 1850 1851 1852 1853 1854 ... 2010 2011 2012 2013 2014\n",
      "  * lon      (lon) float64 0.0 2.5 5.0 7.5 10.0 ... 350.0 352.5 355.0 357.5\n",
      "  * lat      (lat) float64 -90.0 -88.11 -86.21 -84.32 ... 84.32 86.21 88.11 90.0\n",
      "Attributes:\n",
      "    regrid_method:  bilinear\n",
      "<xarray.DataArray 'SO2' (year: 165, lat: 96, lon: 144)>\n",
      "dask.array<transpose, shape=(165, 96, 144), dtype=float64, chunksize=(1, 96, 144), chunktype=numpy.ndarray>\n",
      "Coordinates:\n",
      "  * year     (year) int64 1850 1851 1852 1853 1854 ... 2010 2011 2012 2013 2014\n",
      "  * lon      (lon) float64 0.0 2.5 5.0 7.5 10.0 ... 350.0 352.5 355.0 357.5\n",
      "  * lat      (lat) float64 -90.0 -88.11 -86.21 -84.32 ... 84.32 86.21 88.11 90.0\n",
      "Attributes:\n",
      "    regrid_method:  bilinear\n"
     ]
    },
    {
     "name": "stderr",
     "output_type": "stream",
     "text": [
      "/home/charlie/miniconda3/envs/climatebench_data/lib/python3.7/site-packages/xesmf/frontend.py:421: FutureWarning: ``output_sizes`` should be given in the ``dask_gufunc_kwargs`` parameter. It will be removed as direct parameter in a future version.\n",
      "  keep_attrs=keep_attrs\n"
     ]
    }
   ],
   "source": [
    "#hist_bc_ts = regridder(xr.open_mfdataset(input_path+'/BC-em-anthro_input4MIPs_emissions_CMIP_CEDS-*.nc')['BC_em_anthro'].sum('sector').groupby('time.year').mean().sel(year=slice(1850, None)).rename('BC'))\n",
    "hist_bc_ts = regridder(xr.open_mfdataset(input_path+'/BC-em-anthro_input4MIPs_emissions_CMIP_CEDS-*.nc')['BC_em_anthro'].sum('sector').groupby('time.year').mean().sel(year=slice(1850, None)).rename('BC'))\n",
    "rint(hist_bc_ts)"
   ]
  },
  {
   "cell_type": "code",
   "execution_count": 19,
   "metadata": {},
   "outputs": [
    {
     "name": "stdout",
     "output_type": "stream",
     "text": [
      "<xarray.Dataset>\n",
      "Dimensions:  (year: 165, lon: 144, lat: 96)\n",
      "Coordinates:\n",
      "  * year     (year) int64 1850 1851 1852 1853 1854 ... 2010 2011 2012 2013 2014\n",
      "  * lon      (lon) float64 0.0 2.5 5.0 7.5 10.0 ... 350.0 352.5 355.0 357.5\n",
      "  * lat      (lat) float64 -90.0 -88.11 -86.21 -84.32 ... 84.32 86.21 88.11 90.0\n",
      "Data variables:\n",
      "    SO2      (year, lat, lon) float64 dask.array<chunksize=(1, 96, 144), meta=np.ndarray>\n",
      "    BC       (year, lat, lon) float64 dask.array<chunksize=(1, 96, 144), meta=np.ndarray>\n",
      "Attributes:\n",
      "    regrid_method:  bilinear\n"
     ]
    }
   ],
   "source": [
    "ds1=xr.merge([hist_so2_ts, hist_bc_ts], fill_value=0.)\n",
    "print(ds1)"
   ]
  },
  {
   "cell_type": "code",
   "execution_count": 21,
   "metadata": {},
   "outputs": [
    {
     "name": "stdout",
     "output_type": "stream",
     "text": [
      "<xarray.Dataset>\n",
      "Dimensions:  (year: 165)\n",
      "Coordinates:\n",
      "  * year     (year) int64 1850 1851 1852 1853 1854 ... 2010 2011 2012 2013 2014\n",
      "Data variables:\n",
      "    CO2      (year) float64 0.1883 0.3772 0.5738 ... 1.429e+03 1.465e+03 1.5e+03\n",
      "    CH4      (year) float64 0.03131 0.03174 0.03218 ... 0.3665 0.3698 0.3712\n"
     ]
    }
   ],
   "source": [
    "ds2=xr.merge([hist_co2_ts, hist_ch4_ts], fill_value=0.)  # Set a fill value to set the methane to zero before 1970..\n",
    "print(ds2)"
   ]
  },
  {
   "cell_type": "code",
   "execution_count": 22,
   "metadata": {},
   "outputs": [
    {
     "name": "stdout",
     "output_type": "stream",
     "text": [
      "<xarray.Dataset>\n",
      "Dimensions:  (year: 165, lon: 144, lat: 96)\n",
      "Coordinates:\n",
      "  * year     (year) int64 1850 1851 1852 1853 1854 ... 2010 2011 2012 2013 2014\n",
      "  * lon      (lon) float64 0.0 2.5 5.0 7.5 10.0 ... 350.0 352.5 355.0 357.5\n",
      "  * lat      (lat) float64 -90.0 -88.11 -86.21 -84.32 ... 84.32 86.21 88.11 90.0\n",
      "Data variables:\n",
      "    SO2      (year, lat, lon) float64 dask.array<chunksize=(1, 96, 144), meta=np.ndarray>\n",
      "    BC       (year, lat, lon) float64 dask.array<chunksize=(1, 96, 144), meta=np.ndarray>\n",
      "    CO2      (year) float64 0.1883 0.3772 0.5738 ... 1.429e+03 1.465e+03 1.5e+03\n",
      "    CH4      (year) float64 0.03131 0.03174 0.03218 ... 0.3665 0.3698 0.3712\n",
      "Attributes:\n",
      "    regrid_method:  bilinear\n"
     ]
    }
   ],
   "source": [
    "ds=xr.merge([ds1, ds2])\n",
    "print(ds)"
   ]
  },
  {
   "cell_type": "code",
   "execution_count": null,
   "metadata": {},
   "outputs": [
    {
     "name": "stdout",
     "output_type": "stream",
     "text": [
      "<xarray.Dataset>\n",
      "Dimensions:  (year: 165, lon: 144, lat: 96)\n",
      "Coordinates:\n",
      "  * year     (year) int64 1850 1851 1852 1853 1854 ... 2010 2011 2012 2013 2014\n",
      "  * lon      (lon) float64 0.0 2.5 5.0 7.5 10.0 ... 350.0 352.5 355.0 357.5\n",
      "  * lat      (lat) float64 -90.0 -88.11 -86.21 -84.32 ... 84.32 86.21 88.11 90.0\n",
      "Data variables:\n",
      "    SO2      (year, lat, lon) float64 dask.array<chunksize=(1, 96, 144), meta=np.ndarray>\n",
      "    BC       (year, lat, lon) float64 dask.array<chunksize=(1, 96, 144), meta=np.ndarray>\n",
      "    CO2      (year) float64 0.1883 0.3772 0.5738 ... 1.429e+03 1.465e+03 1.5e+03\n",
      "    CH4      (year) float64 0.03131 0.03174 0.03218 ... 0.3665 0.3698 0.3712\n",
      "Attributes:\n",
      "    regrid_method:  bilinear\n",
      "<xarray.Dataset>\n",
      "Dimensions:  (year: 165, lon: 144, lat: 96)\n",
      "Coordinates:\n",
      "  * year     (year) int64 1850 1851 1852 1853 1854 ... 2010 2011 2012 2013 2014\n",
      "  * lon      (lon) float64 0.0 2.5 5.0 7.5 10.0 ... 350.0 352.5 355.0 357.5\n",
      "  * lat      (lat) float64 -90.0 -88.11 -86.21 -84.32 ... 84.32 86.21 88.11 90.0\n",
      "Data variables:\n",
      "    SO2      (year, lat, lon) float64 dask.array<chunksize=(1, 96, 144), meta=np.ndarray>\n",
      "    BC       (year, lat, lon) float64 dask.array<chunksize=(1, 96, 144), meta=np.ndarray>\n",
      "    CO2      (year) float64 0.1883 0.3772 0.5738 ... 1.429e+03 1.465e+03 1.5e+03\n",
      "    CH4      (year) float64 0.03131 0.03174 0.03218 ... 0.3665 0.3698 0.3712\n",
      "Attributes:\n",
      "    regrid_method:  bilinear\n"
     ]
    }
   ],
   "source": [
    "# historical\n",
    "# Fix some metadata to help iris\n",
    "# changed ds.latitude into ds.lat \n",
    "ds.lat.attrs['units'] = 'degrees' \n",
    "print(ds)\n",
    "ds.rename({'year': 'time'})\n",
    "print(ds)\n",
    "ds.to_netcdf(output_path+'inputs_historical.nc')"
   ]
  },
  {
   "cell_type": "code",
   "execution_count": null,
   "metadata": {},
   "outputs": [],
   "source": [
    "# Deal with DAMIP experiments\n",
    "'hist-GHG', 'hist-aer', 'hist-nat', 'hist-piAer', 'hist-piNTCF'\n",
    "\n",
    "# hist-GHG\n",
    "# Time varying global annual mean concentrations for CO2 and other long-lived greenhouse-gases \n",
    "# https://view.es-doc.org/?renderMethod=name&project=cmip6&type=cim.2.designing.NumericalExperiment&client=esdoc-url-rewrite&name=hist-ghg\n",
    "\n",
    "ds = xr.merge([hist_co2_ts, \n",
    "               hist_ch4_ts, \n",
    "               xr.zeros_like(hist_bc_ts).rename('BC'),\n",
    "               xr.zeros_like(hist_so2_ts).rename('SO2'),\n",
    "              ])\n",
    "print(ds)\n",
    "ds.rename({'year': 'time'}).to_netcdf('inputs_hist-GHG.nc')\n",
    "\n",
    "# hist-aer\n",
    "# forced by changes in anthropogenic aerosol forcing only \n",
    "# https://view.es-doc.org/?renderMethod=name&project=cmip6&type=cim.2.designing.NumericalExperiment&client=esdoc-url-rewrite&name=hist-aer\n",
    "\n",
    "ds = xr.merge([xr.zeros_like(hist_co2_ts).rename('CO2'), \n",
    "               xr.zeros_like(hist_ch4_ts).rename('CH4'), \n",
    "               hist_bc_ts,\n",
    "               hist_so2_ts,\n",
    "              ])\n",
    "# Fix some metadata to help iris\n",
    "ds.latitude.attrs['units'] = 'degrees'    \n",
    "print(ds)\n",
    "ds.rename({'year': 'time'}).to_netcdf(output_path+'inputs_hist-aer.nc')\n",
    "\n"
   ]
  },
  {
   "cell_type": "code",
   "execution_count": null,
   "metadata": {},
   "outputs": [],
   "source": [
    "for exp in experiments:\n",
    "    print(exp)\n",
    "    \n",
    "    # According to email from Dirk on 14th December the NorESM2 simulations on ESGF\n",
    "    #  used the ssp370 GHG emissions for ssp370-lowNTCF (as per the AerChemMIP spec, but not the input4MIPS files)\n",
    "    if exp == 'ssp370-lowNTCF':\n",
    "        GHG_exp = 'ssp370'\n",
    "    else:\n",
    "        GHG_exp = exp\n",
    "        \n",
    "    co2_files = glob(path_f_csv.format(species=\"CO2\", scenario=GHG_exp))\n",
    "    co2=pd.concat((pd.read_csv(f, index_col=['year', 'month', 'sector']) for f in co2_files)).groupby(level=['year']).sum() / 1e6\n",
    "    # Get the CO2 emissions\n",
    "    co2_ts = xr.DataArray(co2['global_total'], name='CO2')\n",
    "\n",
    "    so2_f = path_f.format(species=\"SO2\", scenario=exp)\n",
    "    so2_da = xr.open_mfdataset(so2_f, combine='by_coords')['SO2_em_anthro']\n",
    "    # Get a the current SO2 emissions\n",
    "    so2_ts = regridder(so2_da.sum('sector').groupby('time.year').mean())\n",
    "    \n",
    "    ch4_files = glob(path_f_csv.format(species=\"CH4\", scenario=GHG_exp))\n",
    "    ch4=pd.concat((pd.read_csv(f, index_col=['year', 'month', 'sector']) for f in ch4_files)).groupby(level=['year']).sum() / 1e3 # The SSP data is in Mt \n",
    "    # Get the current CH4 emissions\n",
    "    ch4_ts = xr.DataArray(ch4['value'], name='CH4')\n",
    "    \n",
    "    bc_f = path_f.format(species=\"BC\", scenario=exp, chunks=None)\n",
    "    # Get a the current BC emissions\n",
    "    bc_da = xr.open_mfdataset(bc_f, combine='by_coords')['BC_em_anthro']\n",
    "    bc_ts = regridder(bc_da.sum('sector').groupby('time.year').mean())\n",
    "    \n",
    "    # These come in monthly means every 5 years, so take the annual mean then interpolate to every year\n",
    "    years = list(range(2015, 2101))\n",
    "\n",
    "    ds = xr.merge([co2_ts.rename('CO2'), so2_ts.rename('SO2'), ch4_ts.rename('CH4'), bc_ts.rename('BC')]).interp(year=years, method='linear')\n",
    "    \n",
    "    # Convert the CO2 emissions to *cumulative* CO2 mass in atmosphere. Do this *after* interpolating on to yearly to get the right totals.\n",
    "    ds['CO2'] = ds['CO2'].cumsum() + hist_co2_ts[-1]  # Be sure to add the current total in 2015\n",
    "    ds['CH4'].plot(label=exp)\n",
    "\n",
    "    # Fix some metadata to help iris\n",
    "    ds.latitude.attrs['units'] = 'degrees'    \n",
    "#     print(ds)\n",
    "    ds.rename({'year': 'time'}).to_netcdf(output_path+f\"inputs_{exp}.nc\")\n",
    "    \n",
    "plt.legend()"
   ]
  },
  {
   "cell_type": "markdown",
   "metadata": {},
   "source": [
    "# Pull down the timeslice ERF values in case they're useful"
   ]
  },
  {
   "cell_type": "code",
   "execution_count": null,
   "metadata": {},
   "outputs": [],
   "source": [
    "erf_df = pd.read_csv('https://raw.githubusercontent.com/chrisroadmap/aerosol-history/main/data_input/RFMIP-ERF-tier2.csv', index_col=0)\n",
    "noresm_erf_df = erf_df.loc[:2014, erf_df.columns.str.startswith('NorESM2-LM')]\n",
    "noresm_erf_df.columns = noresm_erf_df.columns.str.replace(\"NorESM2-LM \", \"\")\n",
    "print(noresm_erf_df)\n",
    "noresm_erf_df.to_csv('inputs_NorESM2_ERF.csv')"
   ]
  },
  {
   "cell_type": "code",
   "execution_count": null,
   "metadata": {},
   "outputs": [],
   "source": [
    "# These might also be useful: https://github.com/njleach/GIR/tree/master/GIR/Parameter_Sets"
   ]
  },
  {
   "cell_type": "markdown",
   "metadata": {},
   "source": [
    "# Merge ensemble members (for target data)"
   ]
  },
  {
   "cell_type": "code",
   "execution_count": null,
   "metadata": {},
   "outputs": [],
   "source": [
    "target_path=\"/home/charlie/Documents/MILA/ClimateBench/target_data/data/\""
   ]
  },
  {
   "cell_type": "code",
   "execution_count": null,
   "metadata": {},
   "outputs": [],
   "source": [
    "experiments = [\n",
    "               '1pctCO2', 'abrupt-4xCO2', 'historical', 'piControl', # CMIP\n",
    "               'hist-GHG', 'hist-aer', # DAMIP\n",
    "               'ssp126', 'ssp245', 'ssp370', 'ssp370-lowNTCF', 'ssp585' #\tScenarioMIP\n",
    "]\n",
    "\n",
    "def preprocess(ds):\n",
    "    \"\"\"\n",
    "    Promote the ensemble member attribute to a coord\n",
    "    \"\"\"\n",
    "    return ds.assign_coords(member=(\"member\", [ds.attrs['source'].split('_')[2]]))\n",
    "\n",
    "# Subtract baseline values\n",
    "baseline = xr.open_dataset(f\"NorESM2-LM_piControl_r1i1p1f1.nc\").mean('year')\n",
    "\n",
    "for exp in experiments:\n",
    "    files=list(glob(f\"{target_path}NorESM2-LM_{exp}_*\"))# add path to target data\n",
    "    print(files)\n",
    "    ens_ds = []\n",
    "    for f in files:\n",
    "        \n",
    "        # change split: assuming we want to have what's behind the r\n",
    "        g=f.split('_')[-1][1]\n",
    "        print(g)\n",
    "        print('member', g)\n",
    "        ds = xr.open_dataset(f)\n",
    "        ds['member'] = g#[int(f.split('_')[2][1])]\n",
    "        ds.assign_coords(member=\"member\")\n",
    "        ens_ds.append(ds)\n",
    "    en_ds = xr.concat(ens_ds, dim='member')\n",
    "    if exp != \"piControl\":\n",
    "        en_ds = en_ds - baseline\n",
    "    # Fix some metadata to help iris\n",
    "    en_ds.lat.attrs['units'] = 'degrees'\n",
    "    en_ds = en_ds.rename({'year': 'time'})\n",
    "    print(en_ds)\n",
    "    # For some reason these runs go until 2020\n",
    "    if exp.startswith(\"hist-\"):\n",
    "        en_ds = en_ds.sel(time=slice(None, 2014))\n",
    "        \n",
    "    if exp == '1pctCO2':\n",
    "        print(en_ds['diurnal_temperature_range'])\n",
    "    en_ds.to_netcdf(output_path+f'outputs_{exp}.nc')"
   ]
  },
  {
   "cell_type": "markdown",
   "metadata": {},
   "source": [
    "# Create the tar-balls"
   ]
  },
  {
   "cell_type": "code",
   "execution_count": null,
   "metadata": {},
   "outputs": [],
   "source": [
    "def make_tarfile(output_filename, files):\n",
    "    with tarfile.open(output_filename, \"w:gz\") as tar:\n",
    "        for f in files:\n",
    "            tar.add(f)\n",
    "\n",
    "train_val_files = [f\"inputs_{exp}.nc\" for exp in experiments if exp not in [\"ssp245\", \"piControl\"]] + [f\"outputs_{exp}.nc\" for exp in experiments if exp != \"ssp245\"]\n",
    "make_tarfile('train_val.tar.gz', train_val_files)\n",
    "        \n",
    "test_files = [\"inputs_ssp245.nc\", \"outputs_ssp245.nc\"]\n",
    "make_tarfile('test.tar.gz', test_files)"
   ]
  },
  {
   "cell_type": "code",
   "execution_count": null,
   "metadata": {},
   "outputs": [],
   "source": []
  }
 ],
 "metadata": {
  "kernelspec": {
   "display_name": "Python 3 (ipykernel)",
   "language": "python",
   "name": "python3"
  },
  "language_info": {
   "codemirror_mode": {
    "name": "ipython",
    "version": 3
   },
   "file_extension": ".py",
   "mimetype": "text/x-python",
   "name": "python",
   "nbconvert_exporter": "python",
   "pygments_lexer": "ipython3",
   "version": "3.7.13"
  }
 },
 "nbformat": 4,
 "nbformat_minor": 4
}
