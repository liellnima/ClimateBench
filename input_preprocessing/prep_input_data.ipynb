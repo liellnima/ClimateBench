{
 "cells": [
  {
   "cell_type": "markdown",
   "metadata": {},
   "source": [
    "# Prepare input data for ClimateBench"
   ]
  },
  {
   "cell_type": "markdown",
   "metadata": {},
   "source": [
    "#### Changes\n",
    "    - fixed environment (xesmf)\n",
    "    - added paths\n",
    "    - global totals co2 and ch4 from .nc files\n",
    "    - stepwise merging\n",
    "    \n",
    "#### Problems\n",
    "    - conservative regridding"
   ]
  },
  {
   "cell_type": "code",
   "execution_count": 1,
   "metadata": {},
   "outputs": [],
   "source": [
    "import tarfile\n",
    "import os.path\n",
    "import numpy as np\n",
    "import xesmf as xe\n",
    "import pandas as pd\n",
    "import xarray as xr\n",
    "import matplotlib.pyplot as plt\n",
    "\n",
    "from glob import glob"
   ]
  },
  {
   "cell_type": "code",
   "execution_count": 2,
   "metadata": {},
   "outputs": [],
   "source": [
    "# Data paths\n",
    "raw_input_path = '/home/charlie/Documents/MILA/ClimateBench/Input_CEDA_raw_new'#'/home/charlie/Documents/MILA/ClimateBench/climate_bench_inputs/' # data from Duncan / raw CMIP input data\n",
    "path_f = raw_input_path+'/{species}*-{scenario}-1-1_gn*.nc'\n",
    "raw_target_path=\"/home/charlie/Documents/MILA/ClimateBench/target_data/data/\" # data downloaded with preapare_data.py (unprocessed targets)\n",
    "output_path = '/home/charlie/Documents/MILA/ClimateBench/target_data/prepared_data/' # where to save full prepared dataset\n",
    "\n"
   ]
  },
  {
   "cell_type": "code",
   "execution_count": 3,
   "metadata": {},
   "outputs": [],
   "source": [
    "# only needed for odl data preparation using duncan's files\n",
    "path_to_duncan_files='/home/charlie/Documents/MILA/ClimateBench/climate_bench_inputs/'\n",
    "path_f_csv = path_to_duncan_files+'/{species}*-{scenario}-1-1_gn*.csv'\n"
   ]
  },
  {
   "cell_type": "code",
   "execution_count": 29,
   "metadata": {},
   "outputs": [],
   "source": [
    "experiments = [\n",
    "                'ssp370-lowNTCF','ssp370','ssp126', 'ssp245', 'ssp585' #\tScenarioMIP +  'ssp370-lowNTCF','ssp370'\n",
    "]"
   ]
  },
  {
   "cell_type": "code",
   "execution_count": 5,
   "metadata": {},
   "outputs": [],
   "source": [
    "# All units are in kg m-2 s-1\n",
    "# Convert to GtC -> multiply by area of earth, period I've summed, and divide by weight of carbon\n",
    "AREA_OF_EARTH = 5.101e+14 #m2\n",
    "SECONDS_IN_YEAR = 60*60*24*365 #s\n",
    "MASS_OF_CARBON = 1.9944235e-26  #kg\n",
    "FRACTION_OF_CARBON_MASS = (6) / (6 + 8 + 8)\n",
    "\n",
    "convert = lambda x: x * AREA_OF_EARTH * SECONDS_IN_YEAR * 1e-12 # kg -> Gt\n",
    "\n",
    "def global_mean(ds):\n",
    "    if 'plev' in ds.coords:\n",
    "        res = ds.sum('plev')\n",
    "    else:\n",
    "        res = ds\n",
    "        \n",
    "    weights = np.cos(np.deg2rad(ds.lat))\n",
    "    weights.name = \"weights\"\n",
    "    gl_mean = res.weighted(weights).mean((\"lon\", \"lat\"))\n",
    "    \n",
    "    return gl_mean\n",
    "\n",
    "def global_sum(ds):\n",
    "    if 'plev' in ds.coords:\n",
    "        res = ds.sum('plev')\n",
    "    else:\n",
    "        res = ds\n",
    "        \n",
    "    weights = np.cos(np.deg2rad(ds.lat))\n",
    "    weights.name = \"weights\"\n",
    "    gl_total = res.weighted(weights).sum((\"lon\", \"lat\")) * AREA_OF_EARTH\n",
    "    \n",
    "    return gl_total"
   ]
  },
  {
   "cell_type": "markdown",
   "metadata": {},
   "source": [
    "# Setup regridding"
   ]
  },
  {
   "cell_type": "code",
   "execution_count": 6,
   "metadata": {},
   "outputs": [
    {
     "name": "stdout",
     "output_type": "stream",
     "text": [
      "<xarray.Dataset>\n",
      "Dimensions:                    (lat: 96, lon: 144, year: 171)\n",
      "Coordinates:\n",
      "  * lat                        (lat) float64 -90.0 -88.11 -86.21 ... 88.11 90.0\n",
      "  * lon                        (lon) float64 0.0 2.5 5.0 ... 352.5 355.0 357.5\n",
      "  * year                       (year) int64 1850 1851 1852 ... 2018 2019 2020\n",
      "    quantile                   float64 ...\n",
      "Data variables:\n",
      "    diurnal_temperature_range  (year, lat, lon) float32 ...\n",
      "    tas                        (year, lat, lon) float32 ...\n",
      "    pr                         (year, lat, lon) float32 ...\n",
      "    pr90                       (year, lat, lon) float64 ...\n",
      "<xarray.Dataset>\n",
      "Dimensions:            (lon: 720, lat: 360, time: 120, level: 25, bound: 2)\n",
      "Coordinates:\n",
      "  * lon                (lon) float64 -179.8 -179.2 -178.8 ... 178.8 179.2 179.8\n",
      "  * lat                (lat) float64 -89.75 -89.25 -88.75 ... 88.75 89.25 89.75\n",
      "  * time               (time) object 2015-01-16 00:00:00 ... 2100-12-16 00:00:00\n",
      "  * level              (level) float64 0.305 0.915 1.525 ... 13.72 14.33 14.95\n",
      "Dimensions without coordinates: bound\n",
      "Data variables:\n",
      "    CO2_em_AIR_anthro  (level, time, lat, lon) float32 dask.array<chunksize=(25, 120, 360, 720), meta=np.ndarray>\n",
      "    lon_bnds           (lon, bound) float64 dask.array<chunksize=(720, 2), meta=np.ndarray>\n",
      "    lat_bnds           (lat, bound) float64 dask.array<chunksize=(360, 2), meta=np.ndarray>\n",
      "    time_bnds          (time, bound) object dask.array<chunksize=(120, 2), meta=np.ndarray>\n",
      "    CO2_em_anthro      (time, lat, lon) float32 dask.array<chunksize=(120, 360, 720), meta=np.ndarray>\n",
      "    sector_bnds        (bound) float64 dask.array<chunksize=(2,), meta=np.ndarray>\n",
      "Overwrite existing file: bilinear_360x720_96x144_peri.nc \n",
      " You can set reuse_weights=True to save computing time.\n"
     ]
    }
   ],
   "source": [
    "# Example NorESM grid\n",
    "noresm_grid = xr.open_dataset(raw_target_path+'/NorESM2-LM_hist-GHG_r1i1p1f1.nc')\n",
    "#print(noresm_grid['lon_bnds'])\n",
    "#print(noresm_grid.keys())\n",
    "print(noresm_grid)\n",
    "# Example input4MIPS grid\n",
    "#rename_dict={'lon_bnds': 'lon_b', 'lat_bnds': 'lat_b'}\n",
    "#noresm_grid.rename_vars(lon_bnds='lon_b', lat_bnds='lat_b', inplace=True) \n",
    "example_input4MIPs_ds = xr.open_mfdataset(path_f.format(species=\"CO2\", scenario='ssp370'), combine='by_coords').sum('sector')\n",
    "\n",
    "print(example_input4MIPs_ds)\n",
    "# conservative does not work as we have no corner informaion, switching to 'bilinear'\n",
    "# //TODO: fix?\n",
    "#regridder = xe.Regridder(example_input4MIPs_ds, noresm_grid.rename({'lat': 'latitude', 'lon': 'longitude'}), 'bilinear', periodic=True)\n",
    "regridder = xe.Regridder(example_input4MIPs_ds, noresm_grid, 'bilinear', periodic=True)"
   ]
  },
  {
   "cell_type": "code",
   "execution_count": 7,
   "metadata": {},
   "outputs": [
    {
     "name": "stdout",
     "output_type": "stream",
     "text": [
      "xESMF Regridder \n",
      "Regridding algorithm:       bilinear \n",
      "Weight filename:            bilinear_360x720_96x144_peri.nc \n",
      "Reuse pre-computed weights? False \n",
      "Input grid shape:           (360, 720) \n",
      "Output grid shape:          (96, 144) \n",
      "Output grid dimension name: ('lat', 'lon') \n",
      "Periodic in longitude?      True\n",
      "<xarray.DataArray 'CO2_em_anthro' (time: 120, lat: 96, lon: 144)>\n",
      "dask.array<transpose, shape=(120, 96, 144), dtype=float64, chunksize=(120, 96, 144), chunktype=numpy.ndarray>\n",
      "Coordinates:\n",
      "  * time     (time) object 2015-01-16 00:00:00 ... 2100-12-16 00:00:00\n",
      "  * lon      (lon) float64 0.0 2.5 5.0 7.5 10.0 ... 350.0 352.5 355.0 357.5\n",
      "  * lat      (lat) float64 -90.0 -88.11 -86.21 -84.32 ... 84.32 86.21 88.11 90.0\n",
      "Attributes:\n",
      "    regrid_method:  bilinear\n"
     ]
    },
    {
     "name": "stderr",
     "output_type": "stream",
     "text": [
      "/home/charlie/miniconda3/envs/climatebench_data/lib/python3.7/site-packages/xesmf/frontend.py:421: FutureWarning: ``output_sizes`` should be given in the ``dask_gufunc_kwargs`` parameter. It will be removed as direct parameter in a future version.\n",
      "  keep_attrs=keep_attrs\n"
     ]
    }
   ],
   "source": [
    "print(regridder)\n",
    "coarse_emissions_t = regridder(example_input4MIPs_ds['CO2_em_anthro'])\n",
    "print(coarse_emissions_t)\n"
   ]
  },
  {
   "cell_type": "code",
   "execution_count": 8,
   "metadata": {},
   "outputs": [
    {
     "name": "stderr",
     "output_type": "stream",
     "text": [
      "/home/charlie/miniconda3/envs/climatebench_data/lib/python3.7/site-packages/xesmf/frontend.py:421: FutureWarning: ``output_sizes`` should be given in the ``dask_gufunc_kwargs`` parameter. It will be removed as direct parameter in a future version.\n",
      "  keep_attrs=keep_attrs\n"
     ]
    },
    {
     "name": "stdout",
     "output_type": "stream",
     "text": [
      "<xarray.DataArray 'CO2_em_anthro' ()>\n",
      "array(2.64756819e-05)\n"
     ]
    },
    {
     "data": {
      "text/plain": [
       "<matplotlib.collections.QuadMesh at 0x7f0ba86d2150>"
      ]
     },
     "execution_count": 8,
     "metadata": {},
     "output_type": "execute_result"
    },
    {
     "data": {
      "image/png": "[encoded data removed]",
      "text/plain": [
       "<Figure size 432x288 with 2 Axes>"
      ]
     },
     "metadata": {
      "needs_background": "light"
     },
     "output_type": "display_data"
    }
   ],
   "source": [
    "# Get an example emissions dataset to check it's working\n",
    "coarse_emissions = regridder(example_input4MIPs_ds['CO2_em_anthro'])\n",
    "\n",
    "print(coarse_emissions.sel(time='2015-01').sum().compute())\n",
    "coarse_emissions.sel(time='2015-01').squeeze().plot.pcolormesh(vmin=1e-7, vmax=2e-7)"
   ]
  },
  {
   "cell_type": "code",
   "execution_count": 9,
   "metadata": {},
   "outputs": [
    {
     "name": "stdout",
     "output_type": "stream",
     "text": [
      "<xarray.DataArray 'CO2_em_anthro' ()>\n",
      "array(0.00050094, dtype=float32)\n"
     ]
    },
    {
     "data": {
      "text/plain": [
       "<matplotlib.collections.QuadMesh at 0x7f0ba84fd910>"
      ]
     },
     "execution_count": 9,
     "metadata": {},
     "output_type": "execute_result"
    },
    {
     "data": {
      "image/png": "[encoded data removed]",
      "text/plain": [
       "<Figure size 432x288 with 2 Axes>"
      ]
     },
     "metadata": {
      "needs_background": "light"
     },
     "output_type": "display_data"
    }
   ],
   "source": [
    "print(example_input4MIPs_ds.sel(time='2015-01')['CO2_em_anthro'].sum().compute())\n",
    "example_input4MIPs_ds.sel(time='2015-01')['CO2_em_anthro'].squeeze().plot.pcolormesh(vmin=1e-7, vmax=2e-7)"
   ]
  },
  {
   "cell_type": "markdown",
   "metadata": {},
   "source": [
    "# Get input4MIPS"
   ]
  },
  {
   "cell_type": "markdown",
   "metadata": {},
   "source": [
    "## CMIP 1pct/4x CO2"
   ]
  },
  {
   "cell_type": "code",
   "execution_count": 10,
   "metadata": {},
   "outputs": [
    {
     "name": "stdout",
     "output_type": "stream",
     "text": [
      "<xarray.DataArray 'CO2' (year: 150)>\n",
      "dask.array<mul, shape=(150,), dtype=float32, chunksize=(1,), chunktype=numpy.ndarray>\n",
      "Coordinates:\n",
      "  * year     (year) int64 1 2 3 4 5 6 7 8 9 ... 143 144 145 146 147 148 149 150\n"
     ]
    },
    {
     "data": {
      "image/png": "[encoded data removed]",
      "text/plain": [
       "<Figure size 432x288 with 1 Axes>"
      ]
     },
     "metadata": {
      "needs_background": "light"
     },
     "output_type": "display_data"
    }
   ],
   "source": [
    "# Deal with CMIP experiments\n",
    "\n",
    "# get the baseline CO2 mass from piControl\n",
    "\n",
    "# CO2 mass in kg\n",
    "baseline_co2_mass = xr.open_mfdataset(raw_input_path+'/co2mass_Amon_NorESM2-LM_piControl*.nc')['co2mass'].mean()\n",
    "\n",
    "# 1pctCO2\n",
    "\n",
    "# (additional) CO2 mass in kg\n",
    "co2_ts = (xr.open_mfdataset(raw_input_path+'/co2mass_Amon_NorESM2-LM_1pctCO2*.nc')['co2mass'].groupby('time.year').mean() - baseline_co2_mass).rename('CO2')  * 1e-12 # kg -> Gt\n",
    "so2_ts = xr.zeros_like(co2_ts).rename('SO2')\n",
    "ch4_ts = xr.zeros_like(co2_ts).rename('CH4')\n",
    "bc_ts = xr.zeros_like(co2_ts).rename('BC')\n",
    "\n",
    "co2_ts.plot()\n",
    "\n",
    "ds = xr.merge([co2_ts, so2_ts, ch4_ts, bc_ts])\n",
    "ds.rename({'year': 'time'}).to_netcdf(output_path+'inputs_1pctCO2.nc')\n",
    "print(ds['CO2'])\n",
    "\n",
    "# abrupt-4xCO2\n",
    "\n",
    "# (additional) CO2 mass in kg\n",
    "co2_ts = (xr.open_mfdataset(raw_input_path+'/co2mass_Amon_NorESM2-LM_abrupt-4xCO2*.nc')['co2mass'].groupby('time.year').mean() - baseline_co2_mass).rename('CO2')  * 1e-12 # kg -> Gt\n",
    "so2_ts = xr.zeros_like(co2_ts).rename('SO2')\n",
    "ch4_ts = xr.zeros_like(co2_ts).rename('CH4')\n",
    "bc_ts = xr.zeros_like(co2_ts).rename('BC')\n",
    "\n",
    "co2_ts.plot()\n",
    "ds = xr.merge([co2_ts, so2_ts, ch4_ts, bc_ts])\n",
    "ds.rename({'year': 'time'}).to_netcdf(output_path+'inputs_abrupt-4xCO2.nc')\n"
   ]
  },
  {
   "cell_type": "markdown",
   "metadata": {},
   "source": [
    "## historical, historical-GHG"
   ]
  },
  {
   "cell_type": "markdown",
   "metadata": {},
   "source": [
    "### CO2\n",
    "#### old"
   ]
  },
  {
   "cell_type": "code",
   "execution_count": 11,
   "metadata": {},
   "outputs": [
    {
     "name": "stdout",
     "output_type": "stream",
     "text": [
      "      global_total\n",
      "year              \n",
      "1750      0.000000\n",
      "1751      0.000000\n",
      "1752      0.000000\n",
      "1753      0.000000\n",
      "1754      0.000000\n",
      "...            ...\n",
      "2010      0.709989\n",
      "2011      0.730250\n",
      "2012      0.738635\n",
      "2013      0.747045\n",
      "2014      0.750612\n",
      "\n",
      "[265 rows x 1 columns]\n",
      "      global_total\n",
      "year              \n",
      "1750      0.009506\n",
      "1751      0.009506\n",
      "1752      0.009510\n",
      "1753      0.009510\n",
      "1754      0.009514\n",
      "...            ...\n",
      "2010     32.182270\n",
      "2011     33.189722\n",
      "2012     33.660139\n",
      "2013     34.651208\n",
      "2014     34.866891\n",
      "\n",
      "[265 rows x 1 columns]\n"
     ]
    }
   ],
   "source": [
    "\"\"\" depricated: old preprocessing using csv files\"\"\"\n",
    "path_to_duncan_files='/home/charlie/Documents/MILA/ClimateBench/climate_bench_inputs/' # data from Duncan\n",
    "\n",
    "# Use the global checksums\n",
    "all_files = glob(path_to_duncan_files+'/CO2-em-AIR-anthro_input4MIPs_emissions_CMIP_CEDS-2017-*.csv')\n",
    "#print(all_files)\n",
    "co2_air=pd.concat((pd.read_csv(f, index_col=['year', 'month', 'sector']) for f in all_files)) \n",
    "co2_air=co2_air.groupby(level=['year']).sum() / 1e6 # kt -> Gt\n",
    "print(co2_air)\n",
    "all_files = glob(path_to_duncan_files+'/CO2-em-anthro_input4MIPs_emissions_CMIP_CEDS-2017-05-18_gn_*.csv')\n",
    "co2=pd.concat((pd.read_csv(f, index_col=['year', 'month', 'sector']) for f in all_files)) \n",
    "co2=co2.groupby(level=['year']).sum() / 1e6 # kt -> Gt\n",
    "print(co2)\n",
    "# ckeck starting year of csv file, might need to skip the first 100 years\n",
    "co2_tot = (co2_air + co2)[100:]\n",
    "co2_tot\n",
    "hist_co2_ts = xr.DataArray(co2_tot.cumsum()['global_total'], name='CO2')"
   ]
  },
  {
   "cell_type": "markdown",
   "metadata": {},
   "source": [
    "#### new"
   ]
  },
  {
   "cell_type": "code",
   "execution_count": 12,
   "metadata": {},
   "outputs": [
    {
     "data": {
      "text/html": [
       "<div><svg style=\"position: absolute; width: 0; height: 0; overflow: hidden\">\n",
       "<defs>\n",
       "<symbol id=\"icon-database\" viewBox=\"0 0 32 32\">\n",
       "<path d=\"M16 0c-8.837 0-16 2.239-16 5v4c0 2.761 7.163 5 16 5s16-2.239 16-5v-4c0-2.761-7.163-5-16-5z\"></path>\n",
       "<path d=\"M16 17c-8.837 0-16-2.239-16-5v6c0 2.761 7.163 5 16 5s16-2.239 16-5v-6c0 2.761-7.163 5-16 5z\"></path>\n",
       "<path d=\"M16 26c-8.837 0-16-2.239-16-5v6c0 2.761 7.163 5 16 5s16-2.239 16-5v-6c0 2.761-7.163 5-16 5z\"></path>\n",
       "</symbol>\n",
       "<symbol id=\"icon-file-text2\" viewBox=\"0 0 32 32\">\n",
       "<path d=\"M28.681 7.159c-0.694-0.947-1.662-2.053-2.724-3.116s-2.169-2.030-3.116-2.724c-1.612-1.182-2.393-1.319-2.841-1.319h-15.5c-1.378 0-2.5 1.121-2.5 2.5v27c0 1.378 1.122 2.5 2.5 2.5h23c1.378 0 2.5-1.122 2.5-2.5v-19.5c0-0.448-0.137-1.23-1.319-2.841zM24.543 5.457c0.959 0.959 1.712 1.825 2.268 2.543h-4.811v-4.811c0.718 0.556 1.584 1.309 2.543 2.268zM28 29.5c0 0.271-0.229 0.5-0.5 0.5h-23c-0.271 0-0.5-0.229-0.5-0.5v-27c0-0.271 0.229-0.5 0.5-0.5 0 0 15.499-0 15.5 0v7c0 0.552 0.448 1 1 1h7v19.5z\"></path>\n",
       "<path d=\"M23 26h-14c-0.552 0-1-0.448-1-1s0.448-1 1-1h14c0.552 0 1 0.448 1 1s-0.448 1-1 1z\"></path>\n",
       "<path d=\"M23 22h-14c-0.552 0-1-0.448-1-1s0.448-1 1-1h14c0.552 0 1 0.448 1 1s-0.448 1-1 1z\"></path>\n",
       "<path d=\"M23 18h-14c-0.552 0-1-0.448-1-1s0.448-1 1-1h14c0.552 0 1 0.448 1 1s-0.448 1-1 1z\"></path>\n",
       "</symbol>\n",
       "</defs>\n",
       "</svg>\n",
       "<style>/* CSS stylesheet for displaying xarray objects in jupyterlab.\n",
       " *\n",
       " */\n",
       "\n",
       ":root {\n",
       "  --xr-font-color0: var(--jp-content-font-color0, rgba(0, 0, 0, 1));\n",
       "  --xr-font-color2: var(--jp-content-font-color2, rgba(0, 0, 0, 0.54));\n",
       "  --xr-font-color3: var(--jp-content-font-color3, rgba(0, 0, 0, 0.38));\n",
       "  --xr-border-color: var(--jp-border-color2, #e0e0e0);\n",
       "  --xr-disabled-color: var(--jp-layout-color3, #bdbdbd);\n",
       "  --xr-background-color: var(--jp-layout-color0, white);\n",
       "  --xr-background-color-row-even: var(--jp-layout-color1, white);\n",
       "  --xr-background-color-row-odd: var(--jp-layout-color2, #eeeeee);\n",
       "}\n",
       "\n",
       "html[theme=dark],\n",
       "body.vscode-dark {\n",
       "  --xr-font-color0: rgba(255, 255, 255, 1);\n",
       "  --xr-font-color2: rgba(255, 255, 255, 0.54);\n",
       "  --xr-font-color3: rgba(255, 255, 255, 0.38);\n",
       "  --xr-border-color: #1F1F1F;\n",
       "  --xr-disabled-color: #515151;\n",
       "  --xr-background-color: #111111;\n",
       "  --xr-background-color-row-even: #111111;\n",
       "  --xr-background-color-row-odd: #313131;\n",
       "}\n",
       "\n",
       ".xr-wrap {\n",
       "  display: block !important;\n",
       "  min-width: 300px;\n",
       "  max-width: 700px;\n",
       "}\n",
       "\n",
       ".xr-text-repr-fallback {\n",
       "  /* fallback to plain text repr when CSS is not injected (untrusted notebook) */\n",
       "  display: none;\n",
       "}\n",
       "\n",
       ".xr-header {\n",
       "  padding-top: 6px;\n",
       "  padding-bottom: 6px;\n",
       "  margin-bottom: 4px;\n",
       "  border-bottom: solid 1px var(--xr-border-color);\n",
       "}\n",
       "\n",
       ".xr-header > div,\n",
       ".xr-header > ul {\n",
       "  display: inline;\n",
       "  margin-top: 0;\n",
       "  margin-bottom: 0;\n",
       "}\n",
       "\n",
       ".xr-obj-type,\n",
       ".xr-array-name {\n",
       "  margin-left: 2px;\n",
       "  margin-right: 10px;\n",
       "}\n",
       "\n",
       ".xr-obj-type {\n",
       "  color: var(--xr-font-color2);\n",
       "}\n",
       "\n",
       ".xr-sections {\n",
       "  padding-left: 0 !important;\n",
       "  display: grid;\n",
       "  grid-template-columns: 150px auto auto 1fr 20px 20px;\n",
       "}\n",
       "\n",
       ".xr-section-item {\n",
       "  display: contents;\n",
       "}\n",
       "\n",
       ".xr-section-item input {\n",
       "  display: none;\n",
       "}\n",
       "\n",
       ".xr-section-item input + label {\n",
       "  color: var(--xr-disabled-color);\n",
       "}\n",
       "\n",
       ".xr-section-item input:enabled + label {\n",
       "  cursor: pointer;\n",
       "  color: var(--xr-font-color2);\n",
       "}\n",
       "\n",
       ".xr-section-item input:enabled + label:hover {\n",
       "  color: var(--xr-font-color0);\n",
       "}\n",
       "\n",
       ".xr-section-summary {\n",
       "  grid-column: 1;\n",
       "  color: var(--xr-font-color2);\n",
       "  font-weight: 500;\n",
       "}\n",
       "\n",
       ".xr-section-summary > span {\n",
       "  display: inline-block;\n",
       "  padding-left: 0.5em;\n",
       "}\n",
       "\n",
       ".xr-section-summary-in:disabled + label {\n",
       "  color: var(--xr-font-color2);\n",
       "}\n",
       "\n",
       ".xr-section-summary-in + label:before {\n",
       "  display: inline-block;\n",
       "  content: '►';\n",
       "  font-size: 11px;\n",
       "  width: 15px;\n",
       "  text-align: center;\n",
       "}\n",
       "\n",
       ".xr-section-summary-in:disabled + label:before {\n",
       "  color: var(--xr-disabled-color);\n",
       "}\n",
       "\n",
       ".xr-section-summary-in:checked + label:before {\n",
       "  content: '▼';\n",
       "}\n",
       "\n",
       ".xr-section-summary-in:checked + label > span {\n",
       "  display: none;\n",
       "}\n",
       "\n",
       ".xr-section-summary,\n",
       ".xr-section-inline-details {\n",
       "  padding-top: 4px;\n",
       "  padding-bottom: 4px;\n",
       "}\n",
       "\n",
       ".xr-section-inline-details {\n",
       "  grid-column: 2 / -1;\n",
       "}\n",
       "\n",
       ".xr-section-details {\n",
       "  display: none;\n",
       "  grid-column: 1 / -1;\n",
       "  margin-bottom: 5px;\n",
       "}\n",
       "\n",
       ".xr-section-summary-in:checked ~ .xr-section-details {\n",
       "  display: contents;\n",
       "}\n",
       "\n",
       ".xr-array-wrap {\n",
       "  grid-column: 1 / -1;\n",
       "  display: grid;\n",
       "  grid-template-columns: 20px auto;\n",
       "}\n",
       "\n",
       ".xr-array-wrap > label {\n",
       "  grid-column: 1;\n",
       "  vertical-align: top;\n",
       "}\n",
       "\n",
       ".xr-preview {\n",
       "  color: var(--xr-font-color3);\n",
       "}\n",
       "\n",
       ".xr-array-preview,\n",
       ".xr-array-data {\n",
       "  padding: 0 5px !important;\n",
       "  grid-column: 2;\n",
       "}\n",
       "\n",
       ".xr-array-data,\n",
       ".xr-array-in:checked ~ .xr-array-preview {\n",
       "  display: none;\n",
       "}\n",
       "\n",
       ".xr-array-in:checked ~ .xr-array-data,\n",
       ".xr-array-preview {\n",
       "  display: inline-block;\n",
       "}\n",
       "\n",
       ".xr-dim-list {\n",
       "  display: inline-block !important;\n",
       "  list-style: none;\n",
       "  padding: 0 !important;\n",
       "  margin: 0;\n",
       "}\n",
       "\n",
       ".xr-dim-list li {\n",
       "  display: inline-block;\n",
       "  padding: 0;\n",
       "  margin: 0;\n",
       "}\n",
       "\n",
       ".xr-dim-list:before {\n",
       "  content: '(';\n",
       "}\n",
       "\n",
       ".xr-dim-list:after {\n",
       "  content: ')';\n",
       "}\n",
       "\n",
       ".xr-dim-list li:not(:last-child):after {\n",
       "  content: ',';\n",
       "  padding-right: 5px;\n",
       "}\n",
       "\n",
       ".xr-has-index {\n",
       "  font-weight: bold;\n",
       "}\n",
       "\n",
       ".xr-var-list,\n",
       ".xr-var-item {\n",
       "  display: contents;\n",
       "}\n",
       "\n",
       ".xr-var-item > div,\n",
       ".xr-var-item label,\n",
       ".xr-var-item > .xr-var-name span {\n",
       "  background-color: var(--xr-background-color-row-even);\n",
       "  margin-bottom: 0;\n",
       "}\n",
       "\n",
       ".xr-var-item > .xr-var-name:hover span {\n",
       "  padding-right: 5px;\n",
       "}\n",
       "\n",
       ".xr-var-list > li:nth-child(odd) > div,\n",
       ".xr-var-list > li:nth-child(odd) > label,\n",
       ".xr-var-list > li:nth-child(odd) > .xr-var-name span {\n",
       "  background-color: var(--xr-background-color-row-odd);\n",
       "}\n",
       "\n",
       ".xr-var-name {\n",
       "  grid-column: 1;\n",
       "}\n",
       "\n",
       ".xr-var-dims {\n",
       "  grid-column: 2;\n",
       "}\n",
       "\n",
       ".xr-var-dtype {\n",
       "  grid-column: 3;\n",
       "  text-align: right;\n",
       "  color: var(--xr-font-color2);\n",
       "}\n",
       "\n",
       ".xr-var-preview {\n",
       "  grid-column: 4;\n",
       "}\n",
       "\n",
       ".xr-var-name,\n",
       ".xr-var-dims,\n",
       ".xr-var-dtype,\n",
       ".xr-preview,\n",
       ".xr-attrs dt {\n",
       "  white-space: nowrap;\n",
       "  overflow: hidden;\n",
       "  text-overflow: ellipsis;\n",
       "  padding-right: 10px;\n",
       "}\n",
       "\n",
       ".xr-var-name:hover,\n",
       ".xr-var-dims:hover,\n",
       ".xr-var-dtype:hover,\n",
       ".xr-attrs dt:hover {\n",
       "  overflow: visible;\n",
       "  width: auto;\n",
       "  z-index: 1;\n",
       "}\n",
       "\n",
       ".xr-var-attrs,\n",
       ".xr-var-data {\n",
       "  display: none;\n",
       "  background-color: var(--xr-background-color) !important;\n",
       "  padding-bottom: 5px !important;\n",
       "}\n",
       "\n",
       ".xr-var-attrs-in:checked ~ .xr-var-attrs,\n",
       ".xr-var-data-in:checked ~ .xr-var-data {\n",
       "  display: block;\n",
       "}\n",
       "\n",
       ".xr-var-data > table {\n",
       "  float: right;\n",
       "}\n",
       "\n",
       ".xr-var-name span,\n",
       ".xr-var-data,\n",
       ".xr-attrs {\n",
       "  padding-left: 25px !important;\n",
       "}\n",
       "\n",
       ".xr-attrs,\n",
       ".xr-var-attrs,\n",
       ".xr-var-data {\n",
       "  grid-column: 1 / -1;\n",
       "}\n",
       "\n",
       "dl.xr-attrs {\n",
       "  padding: 0;\n",
       "  margin: 0;\n",
       "  display: grid;\n",
       "  grid-template-columns: 125px auto;\n",
       "}\n",
       "\n",
       ".xr-attrs dt,\n",
       ".xr-attrs dd {\n",
       "  padding: 0;\n",
       "  margin: 0;\n",
       "  float: left;\n",
       "  padding-right: 10px;\n",
       "  width: auto;\n",
       "}\n",
       "\n",
       ".xr-attrs dt {\n",
       "  font-weight: normal;\n",
       "  grid-column: 1;\n",
       "}\n",
       "\n",
       ".xr-attrs dt:hover span {\n",
       "  display: inline-block;\n",
       "  background: var(--xr-background-color);\n",
       "  padding-right: 10px;\n",
       "}\n",
       "\n",
       ".xr-attrs dd {\n",
       "  grid-column: 2;\n",
       "  white-space: pre-wrap;\n",
       "  word-break: break-all;\n",
       "}\n",
       "\n",
       ".xr-icon-database,\n",
       ".xr-icon-file-text2 {\n",
       "  display: inline-block;\n",
       "  vertical-align: middle;\n",
       "  width: 1em;\n",
       "  height: 1.5em !important;\n",
       "  stroke-width: 0;\n",
       "  stroke: currentColor;\n",
       "  fill: currentColor;\n",
       "}\n",
       "</style><pre class='xr-text-repr-fallback'>&lt;xarray.DataArray &#x27;CO2&#x27; (year: 165)&gt;\n",
       "dask.array&lt;nancumsum, shape=(165,), dtype=float32, chunksize=(1,), chunktype=numpy.ndarray&gt;\n",
       "Coordinates:\n",
       "  * year     (year) int64 1850 1851 1852 1853 1854 ... 2010 2011 2012 2013 2014</pre><div class='xr-wrap' style='display:none'><div class='xr-header'><div class='xr-obj-type'>xarray.DataArray</div><div class='xr-array-name'>'CO2'</div><ul class='xr-dim-list'><li><span class='xr-has-index'>year</span>: 165</li></ul></div><ul class='xr-sections'><li class='xr-section-item'><div class='xr-array-wrap'><input id='section-9c442d85-81d1-4942-beb3-c74ada4e5ac4' class='xr-array-in' type='checkbox' checked><label for='section-9c442d85-81d1-4942-beb3-c74ada4e5ac4' title='Show/hide data repr'><svg class='icon xr-icon-database'><use xlink:href='#icon-database'></use></svg></label><div class='xr-array-preview xr-preview'><span>dask.array&lt;chunksize=(1,), meta=np.ndarray&gt;</span></div><div class='xr-array-data'><table>\n",
       "    <tr>\n",
       "        <td>\n",
       "            <table>\n",
       "                <thead>\n",
       "                    <tr>\n",
       "                        <td> </td>\n",
       "                        <th> Array </th>\n",
       "                        <th> Chunk </th>\n",
       "                    </tr>\n",
       "                </thead>\n",
       "                <tbody>\n",
       "                    \n",
       "                    <tr>\n",
       "                        <th> Bytes </th>\n",
       "                        <td> 660 B </td>\n",
       "                        <td> 4 B </td>\n",
       "                    </tr>\n",
       "                    \n",
       "                    <tr>\n",
       "                        <th> Shape </th>\n",
       "                        <td> (165,) </td>\n",
       "                        <td> (1,) </td>\n",
       "                    </tr>\n",
       "                    <tr>\n",
       "                        <th> Count </th>\n",
       "                        <td> 4180 Tasks </td>\n",
       "                        <td> 165 Chunks </td>\n",
       "                    </tr>\n",
       "                    <tr>\n",
       "                    <th> Type </th>\n",
       "                    <td> float32 </td>\n",
       "                    <td> numpy.ndarray </td>\n",
       "                    </tr>\n",
       "                </tbody>\n",
       "            </table>\n",
       "        </td>\n",
       "        <td>\n",
       "        <svg width=\"170\" height=\"75\" style=\"stroke:rgb(0,0,0);stroke-width:1\" >\n",
       "\n",
       "  <!-- Horizontal lines -->\n",
       "  <line x1=\"0\" y1=\"0\" x2=\"120\" y2=\"0\" style=\"stroke-width:2\" />\n",
       "  <line x1=\"0\" y1=\"25\" x2=\"120\" y2=\"25\" style=\"stroke-width:2\" />\n",
       "\n",
       "  <!-- Vertical lines -->\n",
       "  <line x1=\"0\" y1=\"0\" x2=\"0\" y2=\"25\" style=\"stroke-width:2\" />\n",
       "  <line x1=\"5\" y1=\"0\" x2=\"5\" y2=\"25\" />\n",
       "  <line x1=\"12\" y1=\"0\" x2=\"12\" y2=\"25\" />\n",
       "  <line x1=\"18\" y1=\"0\" x2=\"18\" y2=\"25\" />\n",
       "  <line x1=\"24\" y1=\"0\" x2=\"24\" y2=\"25\" />\n",
       "  <line x1=\"31\" y1=\"0\" x2=\"31\" y2=\"25\" />\n",
       "  <line x1=\"37\" y1=\"0\" x2=\"37\" y2=\"25\" />\n",
       "  <line x1=\"43\" y1=\"0\" x2=\"43\" y2=\"25\" />\n",
       "  <line x1=\"50\" y1=\"0\" x2=\"50\" y2=\"25\" />\n",
       "  <line x1=\"56\" y1=\"0\" x2=\"56\" y2=\"25\" />\n",
       "  <line x1=\"62\" y1=\"0\" x2=\"62\" y2=\"25\" />\n",
       "  <line x1=\"69\" y1=\"0\" x2=\"69\" y2=\"25\" />\n",
       "  <line x1=\"75\" y1=\"0\" x2=\"75\" y2=\"25\" />\n",
       "  <line x1=\"81\" y1=\"0\" x2=\"81\" y2=\"25\" />\n",
       "  <line x1=\"88\" y1=\"0\" x2=\"88\" y2=\"25\" />\n",
       "  <line x1=\"94\" y1=\"0\" x2=\"94\" y2=\"25\" />\n",
       "  <line x1=\"100\" y1=\"0\" x2=\"100\" y2=\"25\" />\n",
       "  <line x1=\"106\" y1=\"0\" x2=\"106\" y2=\"25\" />\n",
       "  <line x1=\"113\" y1=\"0\" x2=\"113\" y2=\"25\" />\n",
       "  <line x1=\"120\" y1=\"0\" x2=\"120\" y2=\"25\" style=\"stroke-width:2\" />\n",
       "\n",
       "  <!-- Colored Rectangle -->\n",
       "  <polygon points=\"0.0,0.0 120.0,0.0 120.0,25.412616514582485 0.0,25.412616514582485\" style=\"fill:#8B4903A0;stroke-width:0\"/>\n",
       "\n",
       "  <!-- Text -->\n",
       "  <text x=\"60.000000\" y=\"45.412617\" font-size=\"1.0rem\" font-weight=\"100\" text-anchor=\"middle\" >165</text>\n",
       "  <text x=\"140.000000\" y=\"12.706308\" font-size=\"1.0rem\" font-weight=\"100\" text-anchor=\"middle\" transform=\"rotate(0,140.000000,12.706308)\">1</text>\n",
       "</svg>\n",
       "        </td>\n",
       "    </tr>\n",
       "</table></div></div></li><li class='xr-section-item'><input id='section-e359a2da-cb31-4e84-bac9-b31dfd2ed367' class='xr-section-summary-in' type='checkbox'  checked><label for='section-e359a2da-cb31-4e84-bac9-b31dfd2ed367' class='xr-section-summary' >Coordinates: <span>(1)</span></label><div class='xr-section-inline-details'></div><div class='xr-section-details'><ul class='xr-var-list'><li class='xr-var-item'><div class='xr-var-name'><span class='xr-has-index'>year</span></div><div class='xr-var-dims'>(year)</div><div class='xr-var-dtype'>int64</div><div class='xr-var-preview xr-preview'>1850 1851 1852 ... 2012 2013 2014</div><input id='attrs-c832b05e-9d60-430f-bc59-8ab081a7b98d' class='xr-var-attrs-in' type='checkbox' disabled><label for='attrs-c832b05e-9d60-430f-bc59-8ab081a7b98d' title='Show/Hide attributes'><svg class='icon xr-icon-file-text2'><use xlink:href='#icon-file-text2'></use></svg></label><input id='data-f2d03336-052d-4d6c-bae2-f5e5b38b7d66' class='xr-var-data-in' type='checkbox'><label for='data-f2d03336-052d-4d6c-bae2-f5e5b38b7d66' title='Show/Hide data repr'><svg class='icon xr-icon-database'><use xlink:href='#icon-database'></use></svg></label><div class='xr-var-attrs'><dl class='xr-attrs'></dl></div><div class='xr-var-data'><pre>array([1850, 1851, 1852, 1853, 1854, 1855, 1856, 1857, 1858, 1859, 1860, 1861,\n",
       "       1862, 1863, 1864, 1865, 1866, 1867, 1868, 1869, 1870, 1871, 1872, 1873,\n",
       "       1874, 1875, 1876, 1877, 1878, 1879, 1880, 1881, 1882, 1883, 1884, 1885,\n",
       "       1886, 1887, 1888, 1889, 1890, 1891, 1892, 1893, 1894, 1895, 1896, 1897,\n",
       "       1898, 1899, 1900, 1901, 1902, 1903, 1904, 1905, 1906, 1907, 1908, 1909,\n",
       "       1910, 1911, 1912, 1913, 1914, 1915, 1916, 1917, 1918, 1919, 1920, 1921,\n",
       "       1922, 1923, 1924, 1925, 1926, 1927, 1928, 1929, 1930, 1931, 1932, 1933,\n",
       "       1934, 1935, 1936, 1937, 1938, 1939, 1940, 1941, 1942, 1943, 1944, 1945,\n",
       "       1946, 1947, 1948, 1949, 1950, 1951, 1952, 1953, 1954, 1955, 1956, 1957,\n",
       "       1958, 1959, 1960, 1961, 1962, 1963, 1964, 1965, 1966, 1967, 1968, 1969,\n",
       "       1970, 1971, 1972, 1973, 1974, 1975, 1976, 1977, 1978, 1979, 1980, 1981,\n",
       "       1982, 1983, 1984, 1985, 1986, 1987, 1988, 1989, 1990, 1991, 1992, 1993,\n",
       "       1994, 1995, 1996, 1997, 1998, 1999, 2000, 2001, 2002, 2003, 2004, 2005,\n",
       "       2006, 2007, 2008, 2009, 2010, 2011, 2012, 2013, 2014])</pre></div></li></ul></div></li><li class='xr-section-item'><input id='section-09b80a98-f891-4429-9362-395bb225b7cb' class='xr-section-summary-in' type='checkbox' disabled ><label for='section-09b80a98-f891-4429-9362-395bb225b7cb' class='xr-section-summary'  title='Expand/collapse section'>Attributes: <span>(0)</span></label><div class='xr-section-inline-details'></div><div class='xr-section-details'><dl class='xr-attrs'></dl></div></li></ul></div></div>"
      ],
      "text/plain": [
       "<xarray.DataArray 'CO2' (year: 165)>\n",
       "dask.array<nancumsum, shape=(165,), dtype=float32, chunksize=(1,), chunktype=numpy.ndarray>\n",
       "Coordinates:\n",
       "  * year     (year) int64 1850 1851 1852 1853 1854 ... 2010 2011 2012 2013 2014"
      ]
     },
     "execution_count": 12,
     "metadata": {},
     "output_type": "execute_result"
    }
   ],
   "source": [
    "\"\"\" new: using lon/lat information from .nc files\"\"\"\n",
    "# TODO: correct? sum/mean?\n",
    "\n",
    "co2_air=xr.open_mfdataset(raw_input_path+'/CO2-em-AIR-anthro_input4MIPs_emissions_CMIP_CEDS-2017-*.nc')\n",
    "\n",
    "# sum over lon/lat to get a global total, sum \n",
    "co2_air=co2_air['CO2_em_AIR_anthro'].sum('level').sum('lon').sum('lat').groupby('time.year').mean().sel(year=slice(1850, None)).rename('CO2_AIR') / 1e6 #kt->Gt\n",
    "\n",
    "\n",
    "co2=xr.open_mfdataset(raw_input_path+'/CO2-em-anthro_input4MIPs_emissions_CMIP_CEDS-2017-*.nc')\n",
    "# sum over lon/lat to get global total\n",
    "co2=co2['CO2_em_anthro'].sum('sector').sum('lon').sum('lat').groupby('time.year').sum().sel(year=slice(1850, None)).rename('CO2') / 1e6\n",
    "\n",
    "co2_tot = co2_air + co2\n",
    "co2_tot\n",
    "\n",
    "# get cummulative sum\n",
    "hist_co2_ts=co2_tot.cumsum('year').rename('CO2')\n",
    "hist_co2_ts\n"
   ]
  },
  {
   "cell_type": "markdown",
   "metadata": {},
   "source": [
    "### CH4\n",
    "#### old"
   ]
  },
  {
   "cell_type": "code",
   "execution_count": 13,
   "metadata": {},
   "outputs": [
    {
     "name": "stdout",
     "output_type": "stream",
     "text": [
      "<xarray.DataArray 'CH4' (year: 165)>\n",
      "array([0.03130595, 0.03174183, 0.03217772, 0.0326136 , 0.03304948,\n",
      "       0.03348537, 0.03392125, 0.03435714, 0.03479302, 0.03522891,\n",
      "       0.03566479, 0.03660865, 0.0375525 , 0.03849636, 0.03944021,\n",
      "       0.04038407, 0.04132793, 0.04227178, 0.04321564, 0.04415949,\n",
      "       0.04510335, 0.04608819, 0.04707303, 0.04805787, 0.04904271,\n",
      "       0.05002755, 0.05101239, 0.05199723, 0.05298207, 0.05396691,\n",
      "       0.05495175, 0.05598158, 0.05701142, 0.05804125, 0.05907108,\n",
      "       0.06010092, 0.06113075, 0.06216059, 0.06319042, 0.06422025,\n",
      "       0.06525009, 0.06632685, 0.06740362, 0.06848039, 0.06955716,\n",
      "       0.07063393, 0.0717107 , 0.07278746, 0.07386423, 0.074941  ,\n",
      "       0.07601777, 0.07701439, 0.07801102, 0.07900765, 0.08000427,\n",
      "       0.0810009 , 0.08199752, 0.08299415, 0.08399077, 0.0849874 ,\n",
      "       0.08598402, 0.08712906, 0.08827409, 0.08941913, 0.09056416,\n",
      "       0.0917092 , 0.09285423, 0.09399927, 0.0951443 , 0.09628934,\n",
      "       0.09743437, 0.09845447, 0.09947457, 0.10049467, 0.10151477,\n",
      "       0.10253487, 0.10355497, 0.10457506, 0.10559516, 0.10661526,\n",
      "       0.10763536, 0.10876213, 0.10988889, 0.11101565, 0.11214242,\n",
      "       0.11326918, 0.11439594, 0.11552271, 0.11664947, 0.11777623,\n",
      "       0.118903  , 0.12101593, 0.12312886, 0.1252418 , 0.12735473,\n",
      "       0.12946766, 0.13158059, 0.13369353, 0.13580646, 0.13791939,\n",
      "       0.14003232, 0.14466583, 0.14929934, 0.15393285, 0.15856636,\n",
      "       0.16319987, 0.16783338, 0.17246688, 0.17710039, 0.1817339 ,\n",
      "       0.18636741, 0.19105681, 0.19574621, 0.20043561, 0.205125  ,\n",
      "       0.2098144 , 0.2145038 , 0.2191932 , 0.2238826 , 0.228572  ,\n",
      "       0.2332614 , 0.23771185, 0.24174979, 0.24866523, 0.25033741,\n",
      "       0.25210798, 0.25799159, 0.26198731, 0.26452267, 0.26965652,\n",
      "       0.27136399, 0.2682687 , 0.26957127, 0.27080274, 0.27336653,\n",
      "       0.27382009, 0.27875919, 0.28077884, 0.28632249, 0.29078531,\n",
      "       0.29240092, 0.29129198, 0.28812401, 0.28665641, 0.28739384,\n",
      "       0.29196929, 0.29494947, 0.29551356, 0.29547453, 0.29562969,\n",
      "       0.29890881, 0.30157582, 0.30416729, 0.31276764, 0.32339024,\n",
      "       0.33104533, 0.33683794, 0.34121955, 0.34889777, 0.34999743,\n",
      "       0.35701871, 0.36055109, 0.36651072, 0.36977223, 0.37120514])\n",
      "Coordinates:\n",
      "  * year     (year) int64 1850 1851 1852 1853 1854 ... 2010 2011 2012 2013 2014\n"
     ]
    }
   ],
   "source": [
    "\"\"\"  depricated: old preprocessing using csv files\"\"\"\n",
    "# Use the global checksums\n",
    "all_files = glob(path_to_duncan_files+'/CH4-em-anthro_input4MIPs_emissions_CMIP_CEDS-*.csv')\n",
    "ch4=pd.concat((pd.read_csv(f, index_col=['year', 'month', 'sector']).rename(columns={'value': 'global_total'}) for f in all_files)) \n",
    "ch4 = ch4.groupby(level=['year']).sum().reindex(range(1850, 2015)).interpolate('linear') / 1e6 # kt -> Gt\n",
    "# Note the AIR component for methane is zero over the historical period\n",
    "ch4\n",
    "hist_ch4_ts = xr.DataArray(ch4['global_total'], name='CH4')\n",
    "print(hist_ch4_ts)"
   ]
  },
  {
   "cell_type": "markdown",
   "metadata": {},
   "source": [
    "#### new"
   ]
  },
  {
   "cell_type": "code",
   "execution_count": 14,
   "metadata": {},
   "outputs": [
    {
     "name": "stdout",
     "output_type": "stream",
     "text": [
      "<xarray.Dataset>\n",
      "Dimensions:        (lon: 720, lat: 360, sector: 8, time: 684, bound: 2)\n",
      "Coordinates:\n",
      "  * lon            (lon) float64 -179.8 -179.2 -178.8 ... 178.8 179.2 179.8\n",
      "  * lat            (lat) float64 -89.75 -89.25 -88.75 ... 88.75 89.25 89.75\n",
      "  * sector         (sector) int32 0 1 2 3 4 5 6 7\n",
      "  * time           (time) object 1850-01-16 00:00:00 ... 2014-12-16 00:00:00\n",
      "Dimensions without coordinates: bound\n",
      "Data variables:\n",
      "    CH4_em_anthro  (time, sector, lat, lon) float32 dask.array<chunksize=(144, 8, 360, 720), meta=np.ndarray>\n",
      "    lat_bnds       (time, lat, bound) float64 dask.array<chunksize=(144, 360, 2), meta=np.ndarray>\n",
      "    lon_bnds       (time, lon, bound) float64 dask.array<chunksize=(144, 720, 2), meta=np.ndarray>\n",
      "    time_bnds      (time, bound) object dask.array<chunksize=(144, 2), meta=np.ndarray>\n",
      "    sector_bnds    (time, sector, bound) float64 dask.array<chunksize=(144, 8, 2), meta=np.ndarray>\n",
      "Attributes: (12/32)\n",
      "    Conventions:                 CF-1.6\n",
      "    activity_id:                 input4MIPs\n",
      "    comment:                     This data supersedes 2016-06-18, 2016-06-18-...\n",
      "    contact:                     Steven J. Smith (ssmith@pnnl.gov)\n",
      "    creation_date:               2017-07-11T14:56:07Z\n",
      "    data_structure:              grid\n",
      "    ...                          ...\n",
      "    data_usage_tips:             Note that these are monthly average fluxes.\n",
      "    reporting_unit:              Mass flux of CH4\n",
      "    nominal_resolution:          50 km\n",
      "    institution:                 Pacific Northwest National Laboratory - Join...\n",
      "    source_id:                   CEDS-2017-05-18-supplemental-data\n",
      "    tracking_id:                 hdl:21.14100/bea04ef8-b46b-4417-b171-ca702da...\n",
      "<xarray.DataArray 'CH4' (year: 165)>\n",
      "dask.array<truediv, shape=(165,), dtype=float32, chunksize=(165,), chunktype=numpy.ndarray>\n",
      "Coordinates:\n",
      "  * year     (year) int64 1850 1851 1852 1853 1854 ... 2010 2011 2012 2013 2014\n"
     ]
    }
   ],
   "source": [
    "\"\"\"  new: using lon/lat from .nc files\"\"\"\n",
    "# Use the global checksums\n",
    "\n",
    "ch4=xr.open_mfdataset(raw_input_path+'/CH4-em-anthro_input4MIPs_emissions_CMIP_CEDS-2017-*.nc')\n",
    "print(ch4)\n",
    "# Note the AIR component for methane is zero over the historical period -> reindex and interpolate\n",
    "ch4=ch4['CH4_em_anthro'].sum('sector').sum('lon').sum('lat').groupby('time.year').mean().reindex({'year':range(1850, 2015)}).chunk(dict(year=-1)).interpolate_na(dim=\"year\", method=\"linear\").rename('CH4') / 1e6 #kt->Gt\n",
    "print(ch4)\n",
    "# Note the AIR component for methane is zero over the historical period\n",
    "ch4\n",
    "hist_ch4_ts=ch4"
   ]
  },
  {
   "cell_type": "markdown",
   "metadata": {},
   "source": [
    "### SO2"
   ]
  },
  {
   "cell_type": "code",
   "execution_count": 15,
   "metadata": {},
   "outputs": [
    {
     "name": "stdout",
     "output_type": "stream",
     "text": [
      "<xarray.DataArray 'SO2' (year: 165, lat: 96, lon: 144)>\n",
      "dask.array<transpose, shape=(165, 96, 144), dtype=float64, chunksize=(1, 96, 144), chunktype=numpy.ndarray>\n",
      "Coordinates:\n",
      "  * year     (year) int64 1850 1851 1852 1853 1854 ... 2010 2011 2012 2013 2014\n",
      "  * lon      (lon) float64 0.0 2.5 5.0 7.5 10.0 ... 350.0 352.5 355.0 357.5\n",
      "  * lat      (lat) float64 -90.0 -88.11 -86.21 -84.32 ... 84.32 86.21 88.11 90.0\n",
      "Attributes:\n",
      "    regrid_method:  bilinear\n"
     ]
    },
    {
     "name": "stderr",
     "output_type": "stream",
     "text": [
      "/home/charlie/miniconda3/envs/climatebench_data/lib/python3.7/site-packages/xesmf/frontend.py:421: FutureWarning: ``output_sizes`` should be given in the ``dask_gufunc_kwargs`` parameter. It will be removed as direct parameter in a future version.\n",
      "  keep_attrs=keep_attrs\n"
     ]
    }
   ],
   "source": [
    "hist_so2_ts = regridder(xr.open_mfdataset(raw_input_path+'/SO2-em-anthro_input4MIPs_emissions_CMIP_CEDS-*.nc')['SO2_em_anthro'].sum('sector').groupby('time.year').mean().sel(year=slice(1850, None)).rename('SO2'))\n",
    "print(hist_so2_ts)"
   ]
  },
  {
   "cell_type": "markdown",
   "metadata": {},
   "source": [
    "### BC"
   ]
  },
  {
   "cell_type": "code",
   "execution_count": 16,
   "metadata": {},
   "outputs": [
    {
     "name": "stdout",
     "output_type": "stream",
     "text": [
      "<xarray.DataArray 'BC' (year: 165, lat: 96, lon: 144)>\n",
      "dask.array<transpose, shape=(165, 96, 144), dtype=float64, chunksize=(1, 96, 144), chunktype=numpy.ndarray>\n",
      "Coordinates:\n",
      "  * year     (year) int64 1850 1851 1852 1853 1854 ... 2010 2011 2012 2013 2014\n",
      "  * lon      (lon) float64 0.0 2.5 5.0 7.5 10.0 ... 350.0 352.5 355.0 357.5\n",
      "  * lat      (lat) float64 -90.0 -88.11 -86.21 -84.32 ... 84.32 86.21 88.11 90.0\n",
      "Attributes:\n",
      "    regrid_method:  bilinear\n"
     ]
    },
    {
     "name": "stderr",
     "output_type": "stream",
     "text": [
      "/home/charlie/miniconda3/envs/climatebench_data/lib/python3.7/site-packages/xesmf/frontend.py:421: FutureWarning: ``output_sizes`` should be given in the ``dask_gufunc_kwargs`` parameter. It will be removed as direct parameter in a future version.\n",
      "  keep_attrs=keep_attrs\n"
     ]
    }
   ],
   "source": [
    "\n",
    "hist_bc_ts = regridder(xr.open_mfdataset(raw_input_path+'/BC-em-anthro_input4MIPs_emissions_CMIP_CEDS-*.nc')['BC_em_anthro'].sum('sector').groupby('time.year').mean().sel(year=slice(1850, None)).rename('BC'))\n",
    "print(hist_bc_ts)"
   ]
  },
  {
   "cell_type": "markdown",
   "metadata": {},
   "source": [
    "### Merge historical"
   ]
  },
  {
   "cell_type": "code",
   "execution_count": 17,
   "metadata": {},
   "outputs": [
    {
     "name": "stdout",
     "output_type": "stream",
     "text": [
      "<xarray.Dataset>\n",
      "Dimensions:  (year: 165, lon: 144, lat: 96)\n",
      "Coordinates:\n",
      "  * year     (year) int64 1850 1851 1852 1853 1854 ... 2010 2011 2012 2013 2014\n",
      "  * lon      (lon) float64 0.0 2.5 5.0 7.5 10.0 ... 350.0 352.5 355.0 357.5\n",
      "  * lat      (lat) float64 -90.0 -88.11 -86.21 -84.32 ... 84.32 86.21 88.11 90.0\n",
      "Data variables:\n",
      "    SO2      (year, lat, lon) float64 dask.array<chunksize=(1, 96, 144), meta=np.ndarray>\n",
      "    BC       (year, lat, lon) float64 dask.array<chunksize=(1, 96, 144), meta=np.ndarray>\n",
      "Attributes:\n",
      "    regrid_method:  bilinear\n"
     ]
    }
   ],
   "source": [
    "ds1_historical=xr.merge([hist_so2_ts, hist_bc_ts], fill_value=0.)\n",
    "print(ds1_historical)"
   ]
  },
  {
   "cell_type": "code",
   "execution_count": 18,
   "metadata": {},
   "outputs": [
    {
     "name": "stdout",
     "output_type": "stream",
     "text": [
      "<xarray.Dataset>\n",
      "Dimensions:  (year: 165)\n",
      "Coordinates:\n",
      "  * year     (year) int64 1850 1851 1852 1853 1854 ... 2010 2011 2012 2013 2014\n",
      "Data variables:\n",
      "    CO2      (year) float32 dask.array<chunksize=(1,), meta=np.ndarray>\n",
      "    CH4      (year) float32 dask.array<chunksize=(165,), meta=np.ndarray>\n"
     ]
    }
   ],
   "source": [
    "ds2_historical=xr.merge([hist_co2_ts, hist_ch4_ts], fill_value=0.)  # Set a fill value to set the methane to zero before 1970..\n",
    "print(ds2_historical)"
   ]
  },
  {
   "cell_type": "code",
   "execution_count": 19,
   "metadata": {},
   "outputs": [
    {
     "name": "stdout",
     "output_type": "stream",
     "text": [
      "<xarray.Dataset>\n",
      "Dimensions:  (year: 165, lon: 144, lat: 96)\n",
      "Coordinates:\n",
      "  * year     (year) int64 1850 1851 1852 1853 1854 ... 2010 2011 2012 2013 2014\n",
      "  * lon      (lon) float64 0.0 2.5 5.0 7.5 10.0 ... 350.0 352.5 355.0 357.5\n",
      "  * lat      (lat) float64 -90.0 -88.11 -86.21 -84.32 ... 84.32 86.21 88.11 90.0\n",
      "Data variables:\n",
      "    SO2      (year, lat, lon) float64 dask.array<chunksize=(1, 96, 144), meta=np.ndarray>\n",
      "    BC       (year, lat, lon) float64 dask.array<chunksize=(1, 96, 144), meta=np.ndarray>\n",
      "    CO2      (year) float32 dask.array<chunksize=(1,), meta=np.ndarray>\n",
      "    CH4      (year) float32 dask.array<chunksize=(165,), meta=np.ndarray>\n",
      "Attributes:\n",
      "    regrid_method:  bilinear\n"
     ]
    }
   ],
   "source": [
    "ds_historical=xr.merge([ds1_historical, ds2_historical])\n",
    "print(ds_historical)"
   ]
  },
  {
   "cell_type": "code",
   "execution_count": 20,
   "metadata": {},
   "outputs": [
    {
     "name": "stdout",
     "output_type": "stream",
     "text": [
      "<xarray.Dataset>\n",
      "Dimensions:  (year: 500)\n",
      "Coordinates:\n",
      "  * year     (year) int64 1 2 3 4 5 6 7 8 9 ... 493 494 495 496 497 498 499 500\n",
      "Data variables:\n",
      "    CO2      (year) float32 dask.array<chunksize=(1,), meta=np.ndarray>\n",
      "    SO2      (year) float32 dask.array<chunksize=(1,), meta=np.ndarray>\n",
      "    CH4      (year) float32 dask.array<chunksize=(1,), meta=np.ndarray>\n",
      "    BC       (year) float32 dask.array<chunksize=(1,), meta=np.ndarray>\n",
      "<xarray.Dataset>\n",
      "Dimensions:  (year: 165, lon: 144, lat: 96)\n",
      "Coordinates:\n",
      "  * year     (year) int64 1850 1851 1852 1853 1854 ... 2010 2011 2012 2013 2014\n",
      "  * lon      (lon) float64 0.0 2.5 5.0 7.5 10.0 ... 350.0 352.5 355.0 357.5\n",
      "  * lat      (lat) float64 -90.0 -88.11 -86.21 -84.32 ... 84.32 86.21 88.11 90.0\n",
      "Data variables:\n",
      "    SO2      (year, lat, lon) float64 dask.array<chunksize=(1, 96, 144), meta=np.ndarray>\n",
      "    BC       (year, lat, lon) float64 dask.array<chunksize=(1, 96, 144), meta=np.ndarray>\n",
      "    CO2      (year) float32 dask.array<chunksize=(1,), meta=np.ndarray>\n",
      "    CH4      (year) float32 dask.array<chunksize=(165,), meta=np.ndarray>\n",
      "Attributes:\n",
      "    regrid_method:  bilinear\n"
     ]
    }
   ],
   "source": [
    "# historical\n",
    "# Fix some metadata to help iris\n",
    "# changed ds.latitude into ds.lat \n",
    "ds_historical.lat.attrs['units'] = 'degrees' \n",
    "print(ds)\n",
    "ds_historical.rename({'year': 'time'})\n",
    "print(ds_historical)\n",
    "#ds_historical.to_netcdf(output_path+'inputs_historical.nc')"
   ]
  },
  {
   "cell_type": "markdown",
   "metadata": {},
   "source": [
    "Deal with DAMIP experiments: \n",
    "\n",
    "- 'hist-GHG', 'hist-aer', 'hist-nat', 'hist-piAer', 'hist-piNTCF'"
   ]
  },
  {
   "cell_type": "markdown",
   "metadata": {},
   "source": [
    "### Merge hist-GHG\n"
   ]
  },
  {
   "cell_type": "code",
   "execution_count": 21,
   "metadata": {},
   "outputs": [
    {
     "name": "stdout",
     "output_type": "stream",
     "text": [
      "<xarray.Dataset>\n",
      "Dimensions:  (year: 165)\n",
      "Coordinates:\n",
      "  * year     (year) int64 1850 1851 1852 1853 1854 ... 2010 2011 2012 2013 2014\n",
      "Data variables:\n",
      "    CO2      (year) float32 dask.array<chunksize=(1,), meta=np.ndarray>\n",
      "    CH4      (year) float32 dask.array<chunksize=(165,), meta=np.ndarray>\n"
     ]
    }
   ],
   "source": [
    "\n",
    "# hist-GHG\n",
    "# Time varying global annual mean concentrations for CO2 and other long-lived greenhouse-gases \n",
    "# https://view.es-doc.org/?renderMethod=name&project=cmip6&type=cim.2.designing.NumericalExperiment&client=esdoc-url-rewrite&name=hist-ghg\n",
    "\n",
    "ds1_hist_ghg = xr.merge([hist_co2_ts, \n",
    "               hist_ch4_ts])\n",
    "print(ds1_hist_ghg)\n"
   ]
  },
  {
   "cell_type": "code",
   "execution_count": 22,
   "metadata": {},
   "outputs": [
    {
     "name": "stdout",
     "output_type": "stream",
     "text": [
      "<xarray.Dataset>\n",
      "Dimensions:  (year: 165, lon: 144, lat: 96)\n",
      "Coordinates:\n",
      "  * year     (year) int64 1850 1851 1852 1853 1854 ... 2010 2011 2012 2013 2014\n",
      "  * lon      (lon) float64 0.0 2.5 5.0 7.5 10.0 ... 350.0 352.5 355.0 357.5\n",
      "  * lat      (lat) float64 -90.0 -88.11 -86.21 -84.32 ... 84.32 86.21 88.11 90.0\n",
      "Data variables:\n",
      "    BC       (year, lat, lon) float64 dask.array<chunksize=(1, 96, 144), meta=np.ndarray>\n",
      "    SO2      (year, lat, lon) float64 dask.array<chunksize=(1, 96, 144), meta=np.ndarray>\n",
      "Attributes:\n",
      "    regrid_method:  bilinear\n"
     ]
    }
   ],
   "source": [
    "ds2_hist_ghg = xr.merge([xr.zeros_like(hist_bc_ts).rename('BC'),\n",
    "               xr.zeros_like(hist_so2_ts).rename('SO2'),\n",
    "              ])\n",
    "print(ds2_hist_ghg)"
   ]
  },
  {
   "cell_type": "code",
   "execution_count": 23,
   "metadata": {},
   "outputs": [
    {
     "name": "stdout",
     "output_type": "stream",
     "text": [
      "<xarray.Dataset>\n",
      "Dimensions:  (year: 165, lon: 144, lat: 96)\n",
      "Coordinates:\n",
      "  * year     (year) int64 1850 1851 1852 1853 1854 ... 2010 2011 2012 2013 2014\n",
      "  * lon      (lon) float64 0.0 2.5 5.0 7.5 10.0 ... 350.0 352.5 355.0 357.5\n",
      "  * lat      (lat) float64 -90.0 -88.11 -86.21 -84.32 ... 84.32 86.21 88.11 90.0\n",
      "Data variables:\n",
      "    CO2      (year) float32 dask.array<chunksize=(1,), meta=np.ndarray>\n",
      "    CH4      (year) float32 dask.array<chunksize=(165,), meta=np.ndarray>\n",
      "    BC       (year, lat, lon) float64 dask.array<chunksize=(1, 96, 144), meta=np.ndarray>\n",
      "    SO2      (year, lat, lon) float64 dask.array<chunksize=(1, 96, 144), meta=np.ndarray>\n"
     ]
    }
   ],
   "source": [
    "ds_hist_ghg = xr.merge([ds1_hist_ghg, ds2_hist_ghg])\n",
    "print(ds_hist_ghg)"
   ]
  },
  {
   "cell_type": "code",
   "execution_count": null,
   "metadata": {},
   "outputs": [],
   "source": [
    "ds_hist_ghg.rename({'year': 'time'}).to_netcdf('inputs_hist-GHG.nc')"
   ]
  },
  {
   "cell_type": "markdown",
   "metadata": {},
   "source": [
    "### Merge hist-aer"
   ]
  },
  {
   "cell_type": "code",
   "execution_count": 24,
   "metadata": {},
   "outputs": [],
   "source": [
    "# hist-aer\n",
    "# forced by changes in anthropogenic aerosol forcing only \n",
    "# https://view.es-doc.org/?renderMethod=name&project=cmip6&type=cim.2.designing.NumericalExperiment&client=esdoc-url-rewrite&name=hist-aer\n",
    "\n",
    "ds1_hist_aer = xr.merge([xr.zeros_like(hist_co2_ts).rename('CO2'), \n",
    "               xr.zeros_like(hist_ch4_ts).rename('CH4')])\n"
   ]
  },
  {
   "cell_type": "code",
   "execution_count": 25,
   "metadata": {},
   "outputs": [],
   "source": [
    "                    \n",
    "ds2_hist_aer = xr.merge([hist_bc_ts,\n",
    "               hist_so2_ts\n",
    "              ])"
   ]
  },
  {
   "cell_type": "code",
   "execution_count": 26,
   "metadata": {},
   "outputs": [],
   "source": [
    "ds_hist_aer = xr.merge([ds1_hist_aer, ds2_hist_aer])"
   ]
  },
  {
   "cell_type": "code",
   "execution_count": 27,
   "metadata": {},
   "outputs": [
    {
     "name": "stdout",
     "output_type": "stream",
     "text": [
      "<xarray.Dataset>\n",
      "Dimensions:  (year: 165, lon: 144, lat: 96)\n",
      "Coordinates:\n",
      "  * year     (year) int64 1850 1851 1852 1853 1854 ... 2010 2011 2012 2013 2014\n",
      "  * lon      (lon) float64 0.0 2.5 5.0 7.5 10.0 ... 350.0 352.5 355.0 357.5\n",
      "  * lat      (lat) float64 -90.0 -88.11 -86.21 -84.32 ... 84.32 86.21 88.11 90.0\n",
      "Data variables:\n",
      "    CO2      (year) float32 dask.array<chunksize=(1,), meta=np.ndarray>\n",
      "    CH4      (year) float32 dask.array<chunksize=(165,), meta=np.ndarray>\n",
      "    BC       (year, lat, lon) float64 dask.array<chunksize=(1, 96, 144), meta=np.ndarray>\n",
      "    SO2      (year, lat, lon) float64 dask.array<chunksize=(1, 96, 144), meta=np.ndarray>\n"
     ]
    }
   ],
   "source": [
    "# Fix some metadata to help iris\n",
    "ds_hist_aer.lat.attrs['units'] = 'degrees'    \n",
    "print(ds_hist_aer)\n",
    "ds_hist_aer.rename({'year': 'time'}).to_netcdf(output_path+'inputs_hist-aer.nc')\n"
   ]
  },
  {
   "cell_type": "markdown",
   "metadata": {},
   "source": [
    "## Scenario MIP"
   ]
  },
  {
   "cell_type": "markdown",
   "metadata": {},
   "source": [
    "#### old "
   ]
  },
  {
   "cell_type": "code",
   "execution_count": null,
   "metadata": {},
   "outputs": [],
   "source": [
    "\"\"\" depricated: using scv files for co2 and ch4 with no lat/lon information\"\"\"\n",
    "# TODO: check up units (ch4 Mt or Gt?)\n",
    "for exp in experiments:\n",
    "    print(exp)\n",
    "    \n",
    "    # According to email from Dirk on 14th December the NorESM2 simulations on ESGF\n",
    "    #  used the ssp370 GHG emissions for ssp370-lowNTCF (as per the AerChemMIP spec, but not the input4MIPS files)\n",
    "    if exp == 'ssp370-lowNTCF':\n",
    "        GHG_exp = 'ssp370'\n",
    "    else:\n",
    "        GHG_exp = exp\n",
    "        \n",
    "    co2_files = glob(path_f_csv.format(species=\"CO2\", scenario=GHG_exp))\n",
    "  \n",
    "    co2=pd.concat((pd.read_csv(f, index_col=['year', 'month', 'sector']) for f in co2_files)).groupby(level=['year']).sum() / 1e6\n",
    "    # Get the CO2 emissions\n",
    "    co2_ts = xr.DataArray(co2['global_total'], name='CO2')\n",
    "\n",
    "    so2_f = path_f.format(species=\"SO2\", scenario=exp)\n",
    "    so2_da = xr.open_mfdataset(so2_f, combine='by_coords')['SO2_em_anthro']\n",
    "    # Get a the current SO2 emissions\n",
    "    so2_ts = regridder(so2_da.sum('sector').groupby('time.year').mean())\n",
    "    \n",
    "    ch4_files = glob(path_f_csv.format(species=\"CH4\", scenario=GHG_exp))\n",
    "    ch4=pd.concat((pd.read_csv(f, index_col=['year', 'month', 'sector']) for f in ch4_files)).groupby(level=['year']).sum() / 1e3 # The SSP data is in Mt \n",
    "    # Get the current CH4 emissions\n",
    "    h4_ts = xr.DataArray(ch4['value'], name='CH4')\n",
    "   \n",
    "    bc_f = path_f.format(species=\"BC\", scenario=exp, chunks=None)\n",
    "    # Get a the current BC emissions\n",
    "    bc_da = xr.open_mfdataset(bc_f, combine='by_coords')['BC_em_anthro']\n",
    "    bc_ts = regridder(bc_da.sum('sector').groupby('time.year').mean())\n",
    "    \n",
    "    # These come in monthly means every 5 years, so take the annual mean then interpolate to every year\n",
    "    years = list(range(2015, 2101))\n",
    "\n",
    "    ds = xr.merge([co2_ts.rename('CO2'), so2_ts.rename('SO2'), ch4_ts.rename('CH4'), bc_ts.rename('BC')]).interp(year=years, method='linear')\n",
    "    \n",
    "    # Convert the CO2 emissions to *cumulative* CO2 mass in atmosphere. Do this *after* interpolating on to yearly to get the right totals.\n",
    "    ds['CO2'] = ds['CO2'].cumsum() + hist_co2_ts[-1]  # Be sure to add the current total in 2015\n",
    "    ds['CH4'].plot(label=exp)\n",
    "\n",
    "    # Fix some metadata to help iris\n",
    "    ds.latitude.attrs['units'] = 'degrees'    \n",
    "#     print(ds)\n",
    "    ds.rename({'year': 'time'}).to_netcdf(output_path+f\"inputs_{exp}.nc\")\n",
    "    \n",
    "plt.legend()"
   ]
  },
  {
   "cell_type": "markdown",
   "metadata": {},
   "source": [
    "#### new"
   ]
  },
  {
   "cell_type": "code",
   "execution_count": 30,
   "metadata": {},
   "outputs": [
    {
     "name": "stdout",
     "output_type": "stream",
     "text": [
      "ssp370-lowNTCF\n",
      "/home/charlie/Documents/MILA/ClimateBench/Input_CEDA_raw_new/CO2*-ssp370-1-1_gn*.nc\n",
      "/home/charlie/Documents/MILA/ClimateBench/Input_CEDA_raw_new/CH4*-ssp370-1-1_gn*.nc\n"
     ]
    },
    {
     "name": "stderr",
     "output_type": "stream",
     "text": [
      "/home/charlie/miniconda3/envs/climatebench_data/lib/python3.7/site-packages/xesmf/frontend.py:421: FutureWarning: ``output_sizes`` should be given in the ``dask_gufunc_kwargs`` parameter. It will be removed as direct parameter in a future version.\n",
      "  keep_attrs=keep_attrs\n",
      "/home/charlie/miniconda3/envs/climatebench_data/lib/python3.7/site-packages/xesmf/frontend.py:421: FutureWarning: ``output_sizes`` should be given in the ``dask_gufunc_kwargs`` parameter. It will be removed as direct parameter in a future version.\n",
      "  keep_attrs=keep_attrs\n"
     ]
    },
    {
     "name": "stdout",
     "output_type": "stream",
     "text": [
      "done\n",
      "ssp370\n",
      "/home/charlie/Documents/MILA/ClimateBench/Input_CEDA_raw_new/CO2*-ssp370-1-1_gn*.nc\n",
      "/home/charlie/Documents/MILA/ClimateBench/Input_CEDA_raw_new/CH4*-ssp370-1-1_gn*.nc\n"
     ]
    },
    {
     "name": "stderr",
     "output_type": "stream",
     "text": [
      "/home/charlie/miniconda3/envs/climatebench_data/lib/python3.7/site-packages/xesmf/frontend.py:421: FutureWarning: ``output_sizes`` should be given in the ``dask_gufunc_kwargs`` parameter. It will be removed as direct parameter in a future version.\n",
      "  keep_attrs=keep_attrs\n",
      "/home/charlie/miniconda3/envs/climatebench_data/lib/python3.7/site-packages/xesmf/frontend.py:421: FutureWarning: ``output_sizes`` should be given in the ``dask_gufunc_kwargs`` parameter. It will be removed as direct parameter in a future version.\n",
      "  keep_attrs=keep_attrs\n"
     ]
    },
    {
     "name": "stdout",
     "output_type": "stream",
     "text": [
      "done\n",
      "ssp126\n",
      "/home/charlie/Documents/MILA/ClimateBench/Input_CEDA_raw_new/CO2*-ssp126-1-1_gn*.nc\n",
      "/home/charlie/Documents/MILA/ClimateBench/Input_CEDA_raw_new/CH4*-ssp126-1-1_gn*.nc\n"
     ]
    },
    {
     "name": "stderr",
     "output_type": "stream",
     "text": [
      "/home/charlie/miniconda3/envs/climatebench_data/lib/python3.7/site-packages/xesmf/frontend.py:421: FutureWarning: ``output_sizes`` should be given in the ``dask_gufunc_kwargs`` parameter. It will be removed as direct parameter in a future version.\n",
      "  keep_attrs=keep_attrs\n",
      "/home/charlie/miniconda3/envs/climatebench_data/lib/python3.7/site-packages/xesmf/frontend.py:421: FutureWarning: ``output_sizes`` should be given in the ``dask_gufunc_kwargs`` parameter. It will be removed as direct parameter in a future version.\n",
      "  keep_attrs=keep_attrs\n"
     ]
    },
    {
     "name": "stdout",
     "output_type": "stream",
     "text": [
      "done\n",
      "ssp245\n",
      "/home/charlie/Documents/MILA/ClimateBench/Input_CEDA_raw_new/CO2*-ssp245-1-1_gn*.nc\n",
      "/home/charlie/Documents/MILA/ClimateBench/Input_CEDA_raw_new/CH4*-ssp245-1-1_gn*.nc\n"
     ]
    },
    {
     "name": "stderr",
     "output_type": "stream",
     "text": [
      "/home/charlie/miniconda3/envs/climatebench_data/lib/python3.7/site-packages/xesmf/frontend.py:421: FutureWarning: ``output_sizes`` should be given in the ``dask_gufunc_kwargs`` parameter. It will be removed as direct parameter in a future version.\n",
      "  keep_attrs=keep_attrs\n",
      "/home/charlie/miniconda3/envs/climatebench_data/lib/python3.7/site-packages/xesmf/frontend.py:421: FutureWarning: ``output_sizes`` should be given in the ``dask_gufunc_kwargs`` parameter. It will be removed as direct parameter in a future version.\n",
      "  keep_attrs=keep_attrs\n"
     ]
    },
    {
     "name": "stdout",
     "output_type": "stream",
     "text": [
      "done\n",
      "ssp585\n",
      "/home/charlie/Documents/MILA/ClimateBench/Input_CEDA_raw_new/CO2*-ssp585-1-1_gn*.nc\n",
      "/home/charlie/Documents/MILA/ClimateBench/Input_CEDA_raw_new/CH4*-ssp585-1-1_gn*.nc\n"
     ]
    },
    {
     "name": "stderr",
     "output_type": "stream",
     "text": [
      "/home/charlie/miniconda3/envs/climatebench_data/lib/python3.7/site-packages/xesmf/frontend.py:421: FutureWarning: ``output_sizes`` should be given in the ``dask_gufunc_kwargs`` parameter. It will be removed as direct parameter in a future version.\n",
      "  keep_attrs=keep_attrs\n",
      "/home/charlie/miniconda3/envs/climatebench_data/lib/python3.7/site-packages/xesmf/frontend.py:421: FutureWarning: ``output_sizes`` should be given in the ``dask_gufunc_kwargs`` parameter. It will be removed as direct parameter in a future version.\n",
      "  keep_attrs=keep_attrs\n"
     ]
    },
    {
     "name": "stdout",
     "output_type": "stream",
     "text": [
      "done\n"
     ]
    },
    {
     "data": {
      "text/plain": [
       "<matplotlib.legend.Legend at 0x7f0b98918650>"
      ]
     },
     "execution_count": 30,
     "metadata": {},
     "output_type": "execute_result"
    },
    {
     "data": {
      "image/png": "[encoded data removed]",
      "text/plain": [
       "<Figure size 432x288 with 1 Axes>"
      ]
     },
     "metadata": {
      "needs_background": "light"
     },
     "output_type": "display_data"
    }
   ],
   "source": [
    "\"\"\" new: using .nc files with lat/lon information for ch4 and co2\"\"\"\n",
    "for exp in experiments:\n",
    "    print(exp)\n",
    "    \n",
    "    # According to email from Dirk on 14th December the NorESM2 simulations on ESGF\n",
    "    #  used the ssp370 GHG emissions for ssp370-lowNTCF (as per the AerChemMIP spec, but not the input4MIPS files)\n",
    "    if exp == 'ssp370-lowNTCF':\n",
    "        GHG_exp = 'ssp370'\n",
    "    else:\n",
    "        GHG_exp = exp\n",
    "        \n",
    "    #co2_files = glob(path_f.format(species=\"CO2\", scenario=GHG_exp))\n",
    "    #co2=pd.concat((pd.read_csv(f, index_col=['year', 'month', 'sector']) for f in co2_files)).groupby(level=['year']).sum() / 1e6\n",
    "    # Get the CO2 emissions\n",
    "    #co2_ts = xr.DataArray(co2['global_total'], name='CO2')\n",
    "    co2_f = path_f.format(species=\"CO2\", scenario=GHG_exp)\n",
    "    print(co2_f)\n",
    "    co2_da=xr.open_mfdataset(co2_f, combine='by_coords')['CO2_em_anthro']\n",
    "    co2_ts=co2_da.sum('sector').sum('lon').sum('lat').groupby('time.year').sum().rename('CO2') / 1e6\n",
    "\n",
    "    so2_f = path_f.format(species=\"SO2\", scenario=exp)\n",
    "    so2_da = xr.open_mfdataset(so2_f, combine='by_coords')['SO2_em_anthro']\n",
    "    # Get a the current SO2 emissions\n",
    "    so2_ts = regridder(so2_da.sum('sector').groupby('time.year').mean())\n",
    "    \n",
    "    #ch4_files = glob(path_f_csv.format(species=\"CH4\", scenario=GHG_exp))\n",
    "    #ch4=pd.concat((pd.read_csv(f, index_col=['year', 'month', 'sector']) for f in ch4_files)).groupby(level=['year']).sum() / 1e3 # The SSP data is in Mt \n",
    "    # Get the current CH4 emissions\n",
    "    #ch4_ts = xr.DataArray(ch4['value'], name='CH4')\n",
    "   \n",
    "    \n",
    "    ch4_f = path_f.format(species=\"CH4\", scenario=GHG_exp)\n",
    "    print(ch4_f)\n",
    "    \n",
    "    ch4_da=xr.open_mfdataset(ch4_f, combine='by_coords')['CH4_em_anthro']\n",
    "    ch4_ts=ch4_da.sum('sector').sum('lon').sum('lat').groupby('time.year').sum().rename('CH4') / 1e3\n",
    "\n",
    "    \n",
    "    bc_f = path_f.format(species=\"BC\", scenario=exp, chunks=None)\n",
    "    # Get a the current BC emissions\n",
    "    bc_da = xr.open_mfdataset(bc_f, combine='by_coords')['BC_em_anthro']\n",
    "    bc_ts = regridder(bc_da.sum('sector').groupby('time.year').mean())\n",
    "    \n",
    "    # These come in monthly means every 5 years, so take the annual mean then interpolate to every year\n",
    "    years = list(range(2015, 2101))\n",
    "\n",
    "    ds = xr.merge([co2_ts.rename('CO2'), so2_ts.rename('SO2'), ch4_ts.rename('CH4'), bc_ts.rename('BC')]).interp(year=years, method='linear')\n",
    "    \n",
    "    # Convert the CO2 emissions to *cumulative* CO2 mass in atmosphere. Do this *after* interpolating on to yearly to get the right totals.\n",
    "    ds['CO2'] = ds['CO2'].cumsum('year') + hist_co2_ts[-1]  # Be sure to add the current total in 2015\n",
    "    ds['CH4'].plot(label=exp)\n",
    "\n",
    "    # Fix some metadata to help iris\n",
    "    ds.lat.attrs['units'] = 'degrees'    \n",
    "#     print(ds)\n",
    "    ds.rename({'year': 'time'}).to_netcdf(output_path+f\"inputs_{exp}.nc\")\n",
    "    print('done')\n",
    "    \n",
    "plt.legend()"
   ]
  },
  {
   "cell_type": "markdown",
   "metadata": {},
   "source": [
    "# Pull down the timeslice ERF values in case they're useful"
   ]
  },
  {
   "cell_type": "code",
   "execution_count": null,
   "metadata": {},
   "outputs": [],
   "source": [
    "erf_df = pd.read_csv('https://raw.githubusercontent.com/chrisroadmap/aerosol-history/main/data_input/RFMIP-ERF-tier2.csv', index_col=0)\n",
    "noresm_erf_df = erf_df.loc[:2014, erf_df.columns.str.startswith('NorESM2-LM')]\n",
    "noresm_erf_df.columns = noresm_erf_df.columns.str.replace(\"NorESM2-LM \", \"\")\n",
    "print(noresm_erf_df)\n",
    "noresm_erf_df.to_csv('inputs_NorESM2_ERF.csv')"
   ]
  },
  {
   "cell_type": "code",
   "execution_count": null,
   "metadata": {},
   "outputs": [],
   "source": [
    "# These might also be useful: https://github.com/njleach/GIR/tree/master/GIR/Parameter_Sets"
   ]
  },
  {
   "cell_type": "markdown",
   "metadata": {},
   "source": [
    "# Merge ensemble members (for target data)"
   ]
  },
  {
   "cell_type": "code",
   "execution_count": null,
   "metadata": {},
   "outputs": [],
   "source": [
    "experiments = [\n",
    "               '1pctCO2', 'abrupt-4xCO2', 'historical', 'piControl', # CMIP\n",
    "               'hist-GHG', 'hist-aer', # DAMIP\n",
    "               'ssp126', 'ssp245', 'ssp370', 'ssp370-lowNTCF', 'ssp585' #\tScenarioMIP\n",
    "]\n",
    "\n",
    "def preprocess(ds):\n",
    "    \"\"\"\n",
    "    Promote the ensemble member attribute to a coord\n",
    "    \"\"\"\n",
    "    return ds.assign_coords(member=(\"member\", [ds.attrs['source'].split('_')[2]]))\n",
    "\n",
    "# Subtract baseline values\n",
    "baseline = xr.open_dataset(f\"NorESM2-LM_piControl_r1i1p1f1.nc\").mean('year')\n",
    "\n",
    "for exp in experiments:\n",
    "    files=list(glob(f\"{raw_target_path}NorESM2-LM_{exp}_*\"))# add path to target data\n",
    "    print(files)\n",
    "    ens_ds = []\n",
    "    for f in files:\n",
    "        \n",
    "        # change split: assuming we want to have what's behind the r\n",
    "        g=f.split('_')[-1][1]\n",
    "        print(g)\n",
    "        print('member', g)\n",
    "        ds = xr.open_dataset(f)\n",
    "        ds['member'] = g#[int(f.split('_')[2][1])]\n",
    "        ds.assign_coords(member=\"member\")\n",
    "        ens_ds.append(ds)\n",
    "    en_ds = xr.concat(ens_ds, dim='member')\n",
    "    if exp != \"piControl\":\n",
    "        en_ds = en_ds - baseline\n",
    "    # Fix some metadata to help iris\n",
    "    en_ds.lat.attrs['units'] = 'degrees'\n",
    "    en_ds = en_ds.rename({'year': 'time'})\n",
    "    print(en_ds)\n",
    "    # For some reason these runs go until 2020\n",
    "    if exp.startswith(\"hist-\"):\n",
    "        en_ds = en_ds.sel(time=slice(None, 2014))\n",
    "        \n",
    "    if exp == '1pctCO2':\n",
    "        print(en_ds['diurnal_temperature_range'])\n",
    "    en_ds.to_netcdf(output_path+f'outputs_{exp}.nc')"
   ]
  },
  {
   "cell_type": "markdown",
   "metadata": {},
   "source": [
    "# Create the tar-balls"
   ]
  },
  {
   "cell_type": "code",
   "execution_count": null,
   "metadata": {},
   "outputs": [],
   "source": [
    "def make_tarfile(output_filename, files):\n",
    "    with tarfile.open(output_filename, \"w:gz\") as tar:\n",
    "        for f in files:\n",
    "            tar.add(f)\n",
    "\n",
    "train_val_files = [f\"inputs_{exp}.nc\" for exp in experiments if exp not in [\"ssp245\", \"piControl\"]] + [f\"outputs_{exp}.nc\" for exp in experiments if exp != \"ssp245\"]\n",
    "make_tarfile('train_val.tar.gz', train_val_files)\n",
    "        \n",
    "test_files = [\"inputs_ssp245.nc\", \"outputs_ssp245.nc\"]\n",
    "make_tarfile('test.tar.gz', test_files)"
   ]
  },
  {
   "cell_type": "markdown",
   "metadata": {},
   "source": [
    "# Some checks - miscellanious"
   ]
  },
  {
   "cell_type": "code",
   "execution_count": 6,
   "metadata": {},
   "outputs": [
    {
     "name": "stdout",
     "output_type": "stream",
     "text": [
      "['/home/charlie/Documents/MILA/ClimateBench/ClimateBench_Data/train_val/outputs_hist-aer.nc', '/home/charlie/Documents/MILA/ClimateBench/ClimateBench_Data/train_val/outputs_historical.nc', '/home/charlie/Documents/MILA/ClimateBench/ClimateBench_Data/train_val/outputs_abrupt-4xCO2.nc', '/home/charlie/Documents/MILA/ClimateBench/ClimateBench_Data/train_val/outputs_ssp126.nc', '/home/charlie/Documents/MILA/ClimateBench/ClimateBench_Data/train_val/outputs_ssp370-lowNTCF.nc', '/home/charlie/Documents/MILA/ClimateBench/ClimateBench_Data/train_val/inputs_abrupt-4xCO2.nc', '/home/charlie/Documents/MILA/ClimateBench/ClimateBench_Data/train_val/outputs_ssp370.nc', '/home/charlie/Documents/MILA/ClimateBench/ClimateBench_Data/train_val/inputs_ssp585.nc', '/home/charlie/Documents/MILA/ClimateBench/ClimateBench_Data/train_val/inputs_historical.nc', '/home/charlie/Documents/MILA/ClimateBench/ClimateBench_Data/train_val/inputs_hist-GHG.nc', '/home/charlie/Documents/MILA/ClimateBench/ClimateBench_Data/train_val/inputs_hist-aer.nc', '/home/charlie/Documents/MILA/ClimateBench/ClimateBench_Data/train_val/outputs_piControl.nc', '/home/charlie/Documents/MILA/ClimateBench/ClimateBench_Data/train_val/inputs_ssp126.nc', '/home/charlie/Documents/MILA/ClimateBench/ClimateBench_Data/train_val/inputs_ssp370-lowNTCF.nc', '/home/charlie/Documents/MILA/ClimateBench/ClimateBench_Data/train_val/inputs_1pctCO2.nc', '/home/charlie/Documents/MILA/ClimateBench/ClimateBench_Data/train_val/outputs_1pctCO2.nc', '/home/charlie/Documents/MILA/ClimateBench/ClimateBench_Data/train_val/outputs_hist-GHG.nc', '/home/charlie/Documents/MILA/ClimateBench/ClimateBench_Data/train_val/inputs_ssp370.nc', '/home/charlie/Documents/MILA/ClimateBench/ClimateBench_Data/train_val/outputs_ssp585.nc']\n"
     ]
    }
   ],
   "source": [
    "# check pipeline\n",
    "CB_data_path='/home/charlie/Documents/MILA/ClimateBench/ClimateBench_Data/train_val/'\n",
    "all_outputs=glob(CB_data_path+'*.nc')\n",
    "print(all_outputs)"
   ]
  },
  {
   "cell_type": "code",
   "execution_count": 9,
   "metadata": {},
   "outputs": [
    {
     "name": "stdout",
     "output_type": "stream",
     "text": [
      "<xarray.Dataset>\n",
      "Dimensions:    (time: 86, longitude: 144, latitude: 96)\n",
      "Coordinates:\n",
      "  * longitude  (longitude) float64 0.0 2.5 5.0 7.5 ... 350.0 352.5 355.0 357.5\n",
      "  * latitude   (latitude) float64 -90.0 -88.11 -86.21 ... 86.21 88.11 90.0\n",
      "  * time       (time) int64 2015 2016 2017 2018 2019 ... 2097 2098 2099 2100\n",
      "Data variables:\n",
      "    CO2        (time) float64 ...\n",
      "    SO2        (time, latitude, longitude) float64 ...\n",
      "    CH4        (time) float64 ...\n",
      "    BC         (time, latitude, longitude) float64 ...\n"
     ]
    }
   ],
   "source": [
    "f = xr.open_dataset(CB_data_path+\"inputs_ssp126.nc\")\n",
    "print(f)"
   ]
  },
  {
   "cell_type": "code",
   "execution_count": null,
   "metadata": {},
   "outputs": [],
   "source": []
  }
 ],
 "metadata": {
  "kernelspec": {
   "display_name": "Python 3 (ipykernel)",
   "language": "python",
   "name": "python3"
  },
  "language_info": {
   "codemirror_mode": {
    "name": "ipython",
    "version": 3
   },
   "file_extension": ".py",
   "mimetype": "text/x-python",
   "name": "python",
   "nbconvert_exporter": "python",
   "pygments_lexer": "ipython3",
   "version": "3.7.13"
  }
 },
 "nbformat": 4,
 "nbformat_minor": 4
}
